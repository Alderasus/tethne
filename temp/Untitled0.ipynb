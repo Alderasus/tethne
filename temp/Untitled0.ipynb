{
 "metadata": {
  "name": "",
  "signature": "sha256:bea07c3e7660b7cedbb155936034fde90e2d8e105ef09d4f08509ff5d00cceb6"
 },
 "nbformat": 3,
 "nbformat_minor": 0,
 "worksheets": [
  {
   "cells": [
    {
     "cell_type": "code",
     "collapsed": false,
     "input": [
      "a = [212488, 5753, 2563, 1420, 520, 243, 167, 43, 525, 380, 41, 50, 117, 101, 82, 138, 104, 26, 9, 15, 29, 6, 10, 12, 12, 8, 5, 2, 3, 0, 0, 4, 2, 3, 2, 3, 1]"
     ],
     "language": "python",
     "metadata": {},
     "outputs": [],
     "prompt_number": 85
    },
    {
     "cell_type": "code",
     "collapsed": false,
     "input": [
      "import matplotlib.pyplot as plt"
     ],
     "language": "python",
     "metadata": {},
     "outputs": [],
     "prompt_number": 86
    },
    {
     "cell_type": "code",
     "collapsed": false,
     "input": [
      "plt.plot(arange(len(a)), a, 'bo')\n",
      "plt.yscale('log')\n",
      "plt.show()"
     ],
     "language": "python",
     "metadata": {},
     "outputs": [
      {
       "metadata": {},
       "output_type": "display_data",
       "png": "[encoded data removed]",
       "text": [
        "<matplotlib.figure.Figure at 0x108ed71d0>"
       ]
      }
     ],
     "prompt_number": 87
    },
    {
     "cell_type": "code",
     "collapsed": false,
     "input": [
      "import numpy"
     ],
     "language": "python",
     "metadata": {},
     "outputs": [],
     "prompt_number": 88
    },
    {
     "cell_type": "code",
     "collapsed": false,
     "input": [
      "b = [ numpy.var(a[i-3:i])/11858 for i in xrange(4, len(a)) ]"
     ],
     "language": "python",
     "metadata": {},
     "outputs": [],
     "prompt_number": 89
    },
    {
     "cell_type": "code",
     "collapsed": false,
     "input": [
      "plt.plot(arange(len(b)), b)\n",
      "plt.show()\n",
      "print b"
     ],
     "language": "python",
     "metadata": {},
     "outputs": [
      {
       "metadata": {},
       "output_type": "display_data",
       "png": "[encoded data removed]",
       "text": [
        "<matplotlib.figure.Figure at 0x108e37490>"
       ]
      },
      {
       "output_type": "stream",
       "stream": "stdout",
       "text": [
        "[283.51640711380969, 58.940968122786302, 21.289499821967357, 1.9406870186090965, 0.57300275482093666, 3.5218980154045085, 3.4380727497610613, 3.4688442870261049, 2.0979929161747344, 0.096943460579824225, 0.068833042859016882, 0.017259796480575702, 0.045595097543149485, 0.044751785011525269, 0.18537883472948408, 0.14428140402166376, 0.0041790821011600228, 0.0059219279998500782, 0.0075523322276569022, 0.0084893461516838149, 0.00052472779745507008, 7.4961113922152883e-05, 0.00029984445568861153, 0.00069339030377991409, 0.00050598751897453192, 0.00013118194936376755, 0.00013118194936376755, 0.00016866250632484398, 0.00029984445568861153, 0.00022488334176645863, 5.6220835441614659e-05, 1.8740278480538221e-05, 1.8740278480538221e-05]\n"
       ]
      }
     ],
     "prompt_number": 90
    },
    {
     "cell_type": "code",
     "collapsed": false,
     "input": [
      "a[-4:]"
     ],
     "language": "python",
     "metadata": {},
     "outputs": [
      {
       "metadata": {},
       "output_type": "pyout",
       "prompt_number": 91,
       "text": [
        "[3, 2, 3, 1]"
       ]
      }
     ],
     "prompt_number": 91
    },
    {
     "cell_type": "code",
     "collapsed": false,
     "input": [],
     "language": "python",
     "metadata": {},
     "outputs": [],
     "prompt_number": 91
    },
    {
     "cell_type": "code",
     "collapsed": false,
     "input": [],
     "language": "python",
     "metadata": {},
     "outputs": [],
     "prompt_number": 77
    },
    {
     "cell_type": "code",
     "collapsed": false,
     "input": [],
     "language": "python",
     "metadata": {},
     "outputs": []
    }
   ],
   "metadata": {}
  }
 ]
}