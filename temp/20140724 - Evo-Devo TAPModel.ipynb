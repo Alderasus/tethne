{
 "metadata": {
  "name": "",
  "signature": "sha256:cad22f68c3ceabc9b9d657973b157295a73a81d39d0bb3d394b4c58022ff5a64"
 },
 "nbformat": 3,
 "nbformat_minor": 0,
 "worksheets": [
  {
   "cells": [
    {
     "cell_type": "code",
     "collapsed": false,
     "input": [
      "import sys\n",
      "sys.path.append('/Users/erickpeirson/tethne/')\n",
      "from tethne.readers import wos\n",
      "from tethne.model.managers import MALLETModelManager"
     ],
     "language": "python",
     "metadata": {},
     "outputs": [],
     "prompt_number": 1
    },
    {
     "cell_type": "code",
     "collapsed": false,
     "input": [
      "corpus = wos.corpus_from_dir('/Users/erickpeirson/Dropbox/DigitalHPS/ED Journals/data')"
     ],
     "language": "python",
     "metadata": {},
     "outputs": [],
     "prompt_number": 2
    },
    {
     "cell_type": "code",
     "collapsed": false,
     "input": [
      "aTerms = corpus.abstract_to_features()"
     ],
     "language": "python",
     "metadata": {},
     "outputs": [],
     "prompt_number": 3
    },
    {
     "cell_type": "code",
     "collapsed": false,
     "input": [
      "def filt(s, C, DC):\n",
      "    exclude = [ 'evolution', 'development', 'evol', 'zool', 'wiley', \n",
      "                'periodicals', 'evolutionary', 'developmental', 'zool', \n",
      "                'devo', 'wileyliss', 'wileylissinc', 'that' ]\n",
      "    try:   # No numbers.\n",
      "        int(s)\n",
      "        return False\n",
      "    except:\n",
      "        if C > 3 and DC > 1 and len(s) > 2 and s not in exclude:\n",
      "            return True\n",
      "    return False"
     ],
     "language": "python",
     "metadata": {},
     "outputs": [],
     "prompt_number": 4
    },
    {
     "cell_type": "code",
     "collapsed": false,
     "input": [
      "corpus.filter_features('abstractTerms', 'abstractTermsF', filt)"
     ],
     "language": "python",
     "metadata": {},
     "outputs": [],
     "prompt_number": 5
    },
    {
     "cell_type": "code",
     "collapsed": false,
     "input": [
      "corpus.slice('date', 'time_period', window_size=1, cumulative=True)"
     ],
     "language": "python",
     "metadata": {},
     "outputs": [],
     "prompt_number": 6
    },
    {
     "cell_type": "code",
     "collapsed": false,
     "input": [
      "corpus.slice('jtitle')"
     ],
     "language": "python",
     "metadata": {},
     "outputs": [],
     "prompt_number": 7
    },
    {
     "cell_type": "code",
     "collapsed": false,
     "input": [
      "from tethne.model.managers import MALLETModelManager"
     ],
     "language": "python",
     "metadata": {},
     "outputs": [],
     "prompt_number": 8
    },
    {
     "cell_type": "code",
     "collapsed": false,
     "input": [
      "manager = MALLETModelManager(corpus, 'abstractTermsF',\n",
      "              temppath='/Users/erickpeirson/Desktop/ed_temp',\n",
      "              outpath='/Users/erickpeirson/Desktop/ed_journals',\n",
      "              mallet_path = '/Applications/mallet-2.0.7')"
     ],
     "language": "python",
     "metadata": {},
     "outputs": [],
     "prompt_number": 9
    },
    {
     "cell_type": "code",
     "collapsed": false,
     "input": [
      "manager.prep()"
     ],
     "language": "python",
     "metadata": {},
     "outputs": [],
     "prompt_number": 10
    },
    {
     "cell_type": "code",
     "collapsed": false,
     "input": [
      "manager.build(Z=200)"
     ],
     "language": "python",
     "metadata": {},
     "outputs": [
      {
       "metadata": {},
       "output_type": "pyout",
       "prompt_number": 11,
       "text": [
        "<tethne.model.corpus.ldamodel.LDAModel at 0x11fab3110>"
       ]
      },
      {
       "metadata": {},
       "output_type": "display_data",
       "png": "[encoded data removed]",
       "text": [
        "<matplotlib.figure.Figure at 0x10b63cfd0>"
       ]
      }
     ],
     "prompt_number": 11
    },
    {
     "cell_type": "code",
     "collapsed": false,
     "input": [
      "print manager.model.print_topics()"
     ],
     "language": "python",
     "metadata": {},
     "outputs": [
      {
       "output_type": "stream",
       "stream": "stdout",
       "text": [
        "0: related, target, downstream, result, point, yellow, blue, colour, crustacean, highlight\n",
        "1: related, state, bacteria, progenitor, arm, data, distant, star, fact, null\n",
        "2: found, reaction, chain, aim, product, part, homolog, link, laminin, context\n",
        "3: lamprey, extant, claw, fission, closer, emx, agnathan, petromyzon, model, distinct\n",
        "4: function, unclear, driven, lie, split, noggin, shown, hydra, molecular, order\n",
        "5: food, exp, fat, nutrient, fed, longterm, back, effort, shortterm, meal\n",
        "6: posterior, anterior, zone, anteroposterior, pole, novo, capitella, expression, start, arachnid\n",
        "7: function, serum, suggest, tract, respond, stomach, trna, glandular, cgmp, profound\n",
        "8: expression, gene, genes, unclear, lost, gymnosperm, coincident, step, respond, retain\n",
        "9: sperm, spermatozoa, fluid, oviduct, sst, cloacal, reveal, spermegg, contact, enter\n",
        "10: find, show, facial, crucial, develop, face, trophic, share, display, nonetheless\n",
        "11: metazoan, phyla, homeodomain, ring, otx, common, bilaterian, ancestor, metazoa, domain\n",
        "12: fetal, gamma, million, gene, ago, world, globin, occur, exon, term\n",
        "13: receptor, ht, serotonin, agonist, high, antagonist, block, insulin, manner, propranolol\n",
        "14: role, parahox, shh, anteriorposterior, cdx, hedgehog, show, sonic, form, spatial\n",
        "15: similar, hoxd, area, unit, bat, genital, foot, thought, interpret, partial\n",
        "16: length, plant, result, leaf, multiple, floral, width, flower, affect, calyx\n",
        "17: role, play, crucial, strength, call, fate, angiotensin, oldest, fresh, european\n",
        "18: vitro, vivo, fgf, column, fibroblast, rib, lumbar, pan, activin, lca\n",
        "19: water, cortisol, content, versicolor, ammonia, ambient, charr, zooplankton, glycerol, ice\n",
        "20: embryo, yolk, placenta, sac, amnion, teleostean, il, pseudemoia, fetus, pregnant\n",
        "21: common, ancestor, comparison, reflect, array, cooption, zinc, rate, organism, path\n",
        "22: mode, major, show, thought, sole, move, obtain, make, find, comparison\n",
        "23: feather, scale, dermal, avian, integument, barb, papilla, skin, uniform, archosaurian\n",
        "24: origin, context, develop, thought, half, arisen, presentday, ocular, current, character\n",
        "25: neural, crest, tube, cranial, hindbrain, australian, branchial, hnk, fate, lungfish\n",
        "26: time, linear, half, blastocoel, nak, electron, driven, window, tracheal, prior\n",
        "27: brain, ganglia, medulla, forebrain, telencephalon, project, htp, rich, biol, bulb\n",
        "28: dev, mol, exp, ecm, ancient, conduct, start, bacteria, ligament, radioimmunoassay\n",
        "29: gut, endoderm, mesoderm, mouth, ectoderm, pharynx, cooption, hindgut, foregut, place\n",
        "30: gill, branchial, fish, salmon, transfer, thousand, fresh, filament, river, mosmkg\n",
        "31: shrimp, rat, exp, gap, understand, box, bound, transform, srasq, gtp\n",
        "32: found, similar, genera, bac, glial, infer, small, rich, devoid, fashion\n",
        "33: pathway, shown, role, exhibit, wntbetacatenin, contrast, attempt, eda, armor, key\n",
        "34: found, end, respect, andor, obvious, earlier, spatial, skeleton, span, begun\n",
        "35: sex, male, gonad, estrogen, tsd, tsp, dmrt, sf, scripta, slider\n",
        "36: rna, order, found, map, mirna, rnai, tool, neutral, set, loss\n",
        "37: human, exp, hplc, liquid, pure, fraction, perform, granulosa, stronger, pulp\n",
        "38: review, discuss, recent, horn, context, focus, research, special, highlight, past\n",
        "39: color, melatonin, black, step, final, dose, indian, lepidopteran, instar, prolactin\n",
        "40: epithelium, epithelia, medial, begin, lobster, columnar, gross, milieu, exoskeleton, began\n",
        "41: pattern, spatial, papilio, follow, igfi, turn, flank, trichoplax, growth, direct\n",
        "42: gene, domain, member, function, reveal, crustacea, myostatin, effector, labial, basal\n",
        "43: weight, free, content, lipid, similar, alter, wet, found, aspect, lung\n",
        "44: approach, relationship, clear, close, framework, likelihood, notion, genera, ilyanassa, naupliar\n",
        "45: work, previous, fate, drive, subject, confirm, output, focus, draw, journal\n",
        "46: ca, intracellular, extracellular, medium, exp, anoxia, eel, load, ventricular, twitch\n",
        "47: behavior, understood, detect, toad, role, control, spadefoot, angiotensin, couchii, leech\n",
        "48: distinct, axial, dll, shoot, broader, distalless, center, full, scenario, interest\n",
        "49: fish, teleost, tilapia, gsi, bass, nile, european, dph, labrax, cut\n",
        "50: suggest, gain, insight, extent, loss, african, context, system, aspect, box\n",
        "51: cell, cellular, arnt, distinct, mih, contrast, step, concert, fashion, homolog\n",
        "52: similar, suggest, molecular, good, subject, design, plane, florida, cricket, dtt\n",
        "53: occur, lead, assess, found, display, widespread, lambda, multiple, cancer, molt\n",
        "54: molecular, data, rrna, placement, taxon, line, claim, exist, sister, populationlevel\n",
        "55: chicken, bias, suggest, found, alter, benthic, stickleback, tend, median, clone\n",
        "56: long, short, similar, differ, show, place, key, insight, caudal, manifest\n",
        "57: liver, higher, exp, kidney, fraction, found, catfish, spleen, igm, environment\n",
        "58: hox, cluster, genes, plan, anteroposterior, code, ftz, paralog, bichir, colinear\n",
        "59: trout, carp, fish, rainbow, mykiss, crucian, glycogen, contrast, vivo, pad\n",
        "60: taxa, extant, constraint, explain, cambrian, current, difficult, ordovician, trend, apateon\n",
        "61: due, present, land, diploid, triploid, meiotic, haploid, polar, rbt, similar\n",
        "62: expression, gene, genes, dlx, spatial, situ, transcript, branchiostoma, found, conflict\n",
        "63: late, previous, role, suggest, portion, power, rri, flounder, index, due\n",
        "64: order, skin, establish, base, contact, mol, barrier, rich, pace, space\n",
        "65: type, collagen, iii, fibrillar, patiriella, ophiuroidea, stalk, broader, expression, precursor\n",
        "66: zebrafish, teleost, medaka, danio, rerio, hoxb, genes, bass, pufferfish, fugu\n",
        "67: process, undergo, mitochondria, phenomenon, movement, dui, electron, enter, run, learn\n",
        "68: period, onset, earlier, time, follicular, delay, remain, post, pyriform, longer\n",
        "69: ectoderm, tail, oral, gsc, msx, tip, rapid, develop, end, pre\n",
        "70: gene, transfer, green, gfp, construct, egfp, sheath, criteria, island, end\n",
        "71: size, larger, smaller, show, tradeoff, manduca, small, sexta, poor, reach\n",
        "72: dorsal, ventral, cord, trunk, marker, malacostracan, anal, fusion, median, branchiopod\n",
        "73: germ, cell, line, vasa, marker, plasm, pll, situ, dual, dazl\n",
        "74: comparison, loci, strong, multiple, ancient, major, share, subgroup, parallel, part\n",
        "75: notochord, precursor, slow, myosin, light, tbox, fast, extend, molgula, tailless\n",
        "76: stem, contrast, lake, fact, cichlid, greater, great, east, africa, burtoni\n",
        "77: network, model, key, drift, dpp, knockdown, lost, dsd, good, framework\n",
        "78: jaw, mandibular, understand, upper, arch, part, rostral, premandibular, lip, contrast\n",
        "79: egg, mum, report, urchin, coat, sand, clear, serosa, hatch, decapod\n",
        "80: lack, differ, due, reconstruct, difficult, nemertean, document, extinct, represent, order\n",
        "81: organ, trait, relationship, qtl, seed, pollen, cone, madsbox, older, gnetum\n",
        "82: genes, expression, gene, hoxa, upstream, overlap, pg, arch, distinct, pa\n",
        "83: layer, electron, outer, show, trophoblast, blastocyst, thin, pole, deep, crab\n",
        "84: rapid, prey, stimuli, live, diet, mouth, standard, thought, buccal, adductor\n",
        "85: synthesis, present, suggest, prior, atp, pool, novo, golgi, account, plan\n",
        "86: shell, plan, gastropod, torsion, snail, process, mollusc, lophotrochozoan, protoconch, asinina\n",
        "87: gene, genes, ortholog, approach, paralog, bootstrap, review, hindbrain, found, precursor\n",
        "88: mammalian, eutherian, count, ear, therian, state, parallel, thoracolumbar, exert, opossum\n",
        "89: calcium, matrix, extracellular, action, calbindind, ameloblast, maxilla, snake, marker, total\n",
        "90: expression, express, border, brush, aspect, microvillar, differ, cysteinerich, ancient, downstream\n",
        "91: nuclear, nuclei, chromatin, suggest, donor, final, quail, basic, foreign, round\n",
        "92: side, left, pelvic, nodal, larger, part, leftright, zona, pellucida, ocular\n",
        "93: basal, root, hair, core, meristem, prl, anagen, cell, sheath, japonicum\n",
        "94: larval, larva, rudiment, settlement, crab, spiralia, tentacular, shown, current, phoronid\n",
        "95: process, made, result, exhibit, notch, due, life, trend, bath, make\n",
        "96: expression, mrna, situ, transcript, rtpcr, cdna, northern, level, blot, splice\n",
        "97: character, taxa, tree, set, distinguish, taxon, scenario, hypothesis, scapula, call\n",
        "98: pattern, eyespot, modular, hybrid, report, anynana, lethal, cross, foci, fit\n",
        "99: cell, cytoplasm, death, daughter, gastric, icm, radii, total, vitamin, mucosa\n",
        "100: data, suggest, chick, american, southern, loci, south, north, cyt, america\n",
        "101: possess, complex, multicellular, report, ancient, contact, jawless, show, open, unicellular\n",
        "102: data, method, event, set, survey, row, error, correct, cost, extent\n",
        "103: show, shown, great, wide, fourth, tandem, share, gender, clock, strong\n",
        "104: digit, avian, shift, bird, frame, ground, galanin, develop, pentadactyl, hypothesis\n",
        "105: signal, hand, strong, report, worm, tbrain, flava, pftbrain, shape, uncertain\n",
        "106: cranial, skull, modern, base, interest, giant, neurocranium, face, vault, race\n",
        "107: phase, develop, hoxc, embryo, host, progress, wolbachia, number, cyclic, methyl\n",
        "108: stage, gastrula, blastula, ord, ird, movement, albeit, disappear, transient, australian\n",
        "109: rise, give, comb, gave, cilia, wap, duct, venom, cell, dsc\n",
        "110: gland, thyroid, present, role, tsh, zone, pineal, duct, part, previous\n",
        "111: transport, gradient, ion, sodium, net, anion, renal, salt, ionic, unknown\n",
        "112: frog, intact, anuran, amphibian, rana, shown, chitin, catesbeiana, esculenta, nonmammalian\n",
        "113: system, ideal, hand, appendicular, electron, wildcaught, neutral, began, organism, lethal\n",
        "114: beta, exp, suggest, present, full, feedback, crh, ocrh, weak, built\n",
        "115: genes, class, gene, homeobox, antp, split, knox, prior, seed, infer\n",
        "116: epidermis, lizard, present, absent, betakeratin, reptilian, kda, antiserum, keratin, snake\n",
        "117: season, winter, oxygen, summer, hypoxia, higher, effect, hgf, spring, fall\n",
        "118: paper, concept, current, view, gradual, focus, phenomena, remain, today, make\n",
        "119: ascidian, igf, factor, opossum, ciona, gata, shoulder, ortholog, suggest, schlosseri\n",
        "120: group, sister, rdna, belong, true, form, explicit, parent, ten, affect\n",
        "121: heart, wnt, cardiac, rest, tone, impact, eastern, largest, correspond, myocardium\n",
        "122: field, unknown, suggest, report, eel, earliest, rice, understood, clone, highlight\n",
        "123: show, led, pattern, cap, earlier, axolotl, wound, newt, blastema, ambystoma\n",
        "124: treatment, effect, exp, action, ptu, coincident, gulick, potassium, drug, founder\n",
        "125: shape, size, direction, extent, space, habitat, framework, offset, pre, permit\n",
        "126: protein, function, milk, absent, tryptic, cysteinerich, brefeldin, casein, yield, tubulin\n",
        "127: temperatures, sox, stage, degreesc, cold, found, lower, waltl, myofibrillar, skink\n",
        "128: affect, act, local, rare, number, kind, wide, clear, array, turn\n",
        "129: fossil, fin, record, tetrapod, sword, devonian, sarcopterygian, actinopterygian, decay, origin\n",
        "130: pax, caudal, show, eye, present, compound, eya, centra, labrum, step\n",
        "131: experiment, gth, longer, treatment, photoperiod, prior, alp, shorter, held, milt\n",
        "132: skeleton, present, cellular, element, earliest, suggest, struthio, cnc, recent, region\n",
        "133: urea, urchin, erythrogramma, direct, tuberculata, indirect, bladder, avt, exhibit, larva\n",
        "134: hypothesis, test, yield, led, multiple, nk, morgan, aim, notion, hnf\n",
        "135: ovarian, period, estradiol, testicular, steroid, androgen, year, annual, gonadotropin, betaestradiol\n",
        "136: plasma, exp, ngml, blood, peak, rose, april, cholesterol, august, month\n",
        "137: factor, key, interact, site, vegf, suggest, vegfr, open, yeast, pthe\n",
        "138: limb, distal, bud, outgrowth, forelimb, tetrapod, hind, aer, fore, hindlimb\n",
        "139: motor, crayfish, ganglion, abdomen, neuron, spinal, axon, tonic, neuromuscular, fast\n",
        "140: bilaterian, set, phylum, basal, taxa, origin, ecdysozoa, acoel, outgroup, bilateria\n",
        "141: day, effect, media, direct, action, cam, andor, cytochalasin, quiescent, bacteria\n",
        "142: ratio, actin, tmao, suggest, tropomyosin, arrest, isoform, japonica, tubulin, found\n",
        "143: data, present, support, classic, broad, result, basic, problem, fuse, fact\n",
        "144: genes, microarray, tfiii, program, yield, helixloophelix, proteindna, side, version, member\n",
        "145: clade, radial, related, comparison, contrast, skate, shark, dogfish, spiral, manner\n",
        "146: wild, area, fiber, strain, rabbit, newborn, cotton, duodenum, insight, robust\n",
        "147: model, organism, random, hourglass, offer, law, causal, maintain, soft, reveal\n",
        "148: blood, vascular, flow, hagfish, smooth, nitric, remain, endothelin, vein, basement\n",
        "149: wall, part, annelid, circular, retractor, number, muscular, place, brachiopod, laser\n",
        "150: small, present, standard, strong, make, screen, bpa, adult, patch, sec\n",
        "151: head, mesoderm, plate, origin, neurula, primordia, trunk, bite, irregular, twist\n",
        "152: expression, situ, tubular, margin, atrial, larval, thin, silent, floor, euol\n",
        "153: expression, bmp, direct, reveal, coqui, runx, col, robust, joint, vegt\n",
        "154: mice, incisor, found, spry, bud, lower, lacz, primordia, diastema, fgfr\n",
        "155: alpha, similar, flight, manner, goldfish, extend, lesser, closest, pin, tubular\n",
        "156: stress, hsp, thermal, heat, shock, complex, reflect, prototroch, death, stressor\n",
        "157: main, point, genitalia, egf, serial, egfr, genes, symposium, special, comparison\n",
        "158: kda, band, hemolymph, vitellogenin, vtg, crustacean, lipovitellin, yolk, ovarian, eyestalk\n",
        "159: form, basic, multiple, result, work, est, vestibular, led, long, parent\n",
        "160: complex, multiple, understand, major, scr, paradigm, frontal, weak, lung, phenomenon\n",
        "161: region, pig, cluster, understood, guinea, offer, tetrapoda, treatment, question, sdspage\n",
        "162: pigment, cyp, cavefish, eye, retina, melanin, visual, astyanax, opsin, photoreceptor\n",
        "163: segment, arthropod, drosophila, spider, pair, artemia, ubx, trunk, abda, rule\n",
        "164: major, site, minor, bufo, gnrh, arenarum, chosen, part, matter, peak\n",
        "165: light, constant, maximum, similar, shed, relationship, rhythm, lux, bay, obvious\n",
        "166: loss, lost, lungfish, infer, lack, quadrant, thought, member, expand, forsteri\n",
        "167: tooth, teeth, dental, molar, oral, lamina, crown, cusp, epithelium, mesial\n",
        "168: normal, total, exp, partial, acth, explain, compartment, wood, msh, mole\n",
        "169: bone, result, pitx, exist, confirm, fewer, ae, progress, constant, began\n",
        "170: wing, wingless, disc, show, ant, primordia, pupal, worker, soldier, margin\n",
        "171: cnidarian, cnidaria, nematostella, polyp, cnox, class, bilateria, report, gsx, pou\n",
        "172: represent, distinct, key, recent, abdb, play, neuroectoderm, globular, show, coastal\n",
        "173: control, found, long, reach, match, contrast, high, larger, lesser, antagonist\n",
        "174: adult, search, transfer, tension, march, specimen, pouch, plate, silico, light\n",
        "175: greater, case, half, subset, equal, basal, broad, helobdella, tool, lay\n",
        "176: number, parallel, motif, trace, exhibit, protein, syncytium, mol, sistergroup, greatest\n",
        "177: molecular, recent, view, true, led, wide, maximum, framework, spectrum, micro\n",
        "178: life, echinoderm, birth, extant, bindin, echinodermata, born, asteroid, feed, holothuroidea\n",
        "179: central, system, evx, eve, similar, grew, chordata, intron, cephalopod, vital\n",
        "180: acid, amino, cdna, colon, betatubulin, amount, ceca, region, nitrogen, frame\n",
        "181: inhibitor, effect, vitro, gvbd, medium, camp, exp, inhibin, gml, mii\n",
        "182: environment, young, social, effect, plastic, maintain, organism, limit, hymenoptera, remain\n",
        "183: enamel, amelogenin, loop, crown, lingual, caiman, gecko, tooth, iguana, pdl\n",
        "184: rate, constant, proportion, time, week, faster, rhythmic, product, implant, global\n",
        "185: male, sexual, order, intersex, conflict, mate, cinerea, success, magna, trait\n",
        "186: drosophila, insect, bicoid, tribolium, fruit, musca, dipteran, hunchback, castaneum, bcd\n",
        "187: mass, fusion, due, threshold, pair, amount, success, ecdysteroid, remain, crucial\n",
        "188: research, question, program, evodevo, address, problem, held, concern, essay, basic\n",
        "189: red, white, faster, mhc, exhibit, parr, maximum, ground, slower, older\n",
        "190: contrast, mutant, age, previous, background, function, mori, bombyx, homolog, lipofuscin\n",
        "191: antler, contrast, leg, transient, deer, place, support, absent, form, function\n",
        "192: high, low, leptin, ppt, manner, excess, crab, thiourea, affect, vitro\n",
        "193: lower, higher, highest, level, lowest, contrast, adapt, bound, vector, normoxia\n",
        "194: growth, grow, age, adulthood, vitamin, found, brain, tip, report, phyla\n",
        "195: dna, common, mtdna, fragment, data, repeat, pcr, intron, variant, lacerta\n",
        "196: present, sertoli, branchiostoma, leydig, year, belcheri, european, end, remain, date\n",
        "197: level, high, related, index, locomotor, cryptic, work, approach, access, cope\n",
        "198: protein, western, assay, blot, gel, bind, cytosol, extract, amount, mapk\n",
        "199: support, hypothesis, idea, clonal, pthe, crucial, press, previous, mesendoderm, princeton\n"
       ]
      }
     ],
     "prompt_number": 12
    },
    {
     "cell_type": "code",
     "collapsed": false,
     "input": [
      "from tethne import GraphCollection\n",
      "from tethne.model.managers import TAPModelManager\n",
      "from tethne.model import TAPModel"
     ],
     "language": "python",
     "metadata": {},
     "outputs": [],
     "prompt_number": 13
    },
    {
     "cell_type": "code",
     "collapsed": false,
     "input": [
      "G = GraphCollection().build(corpus, 'date', 'authors', 'coauthors')"
     ],
     "language": "python",
     "metadata": {},
     "outputs": [],
     "prompt_number": 14
    },
    {
     "cell_type": "code",
     "collapsed": false,
     "input": [
      "graph = G.graphs[2013]\n",
      "authors = { n[1]['label']:n[0] for n in graph.nodes(data=True) }"
     ],
     "language": "python",
     "metadata": {},
     "outputs": [],
     "prompt_number": 15
    },
    {
     "cell_type": "code",
     "collapsed": false,
     "input": [
      "tmanager = TAPModelManager(corpus, G, manager.model, indexed_by='wosid')"
     ],
     "language": "python",
     "metadata": {},
     "outputs": [],
     "prompt_number": 16
    },
    {
     "cell_type": "code",
     "collapsed": false,
     "input": [
      "atheta = tmanager.author_theta(corpus.all_papers(), authors, indexed_by='wosid')"
     ],
     "language": "python",
     "metadata": {},
     "outputs": [
      {
       "output_type": "stream",
       "stream": "stderr",
       "text": [
        "DEBUG:tethne.model.managers.tap:TAPModelManager.author_theta(): start for 2092 papers\n"
       ]
      },
      {
       "output_type": "stream",
       "stream": "stderr",
       "text": [
        "DEBUG:tethne.model.managers.tap:TAPModelManager.author_theta(): KeyError on WOS:000271244000015\n"
       ]
      },
      {
       "output_type": "stream",
       "stream": "stderr",
       "text": [
        "DEBUG:tethne.model.managers.tap:TAPModelManager.author_theta(): KeyError on WOS:000175031800001\n"
       ]
      },
      {
       "output_type": "stream",
       "stream": "stderr",
       "text": [
        "DEBUG:tethne.model.managers.tap:TAPModelManager.author_theta(): KeyError on WOS:000175031800009\n"
       ]
      },
      {
       "output_type": "stream",
       "stream": "stderr",
       "text": [
        "DEBUG:tethne.model.managers.tap:TAPModelManager.author_theta(): KeyError on WOS:000086321600001\n"
       ]
      },
      {
       "output_type": "stream",
       "stream": "stderr",
       "text": [
        "DEBUG:tethne.model.managers.tap:TAPModelManager.author_theta(): KeyError on WOS:000086321600002\n"
       ]
      },
      {
       "output_type": "stream",
       "stream": "stderr",
       "text": [
        "DEBUG:tethne.model.managers.tap:TAPModelManager.author_theta(): KeyError on WOS:000086321600008\n"
       ]
      },
      {
       "output_type": "stream",
       "stream": "stderr",
       "text": [
        "DEBUG:tethne.model.managers.tap:TAPModelManager.author_theta(): KeyError on WOS:000320170600001\n"
       ]
      },
      {
       "output_type": "stream",
       "stream": "stderr",
       "text": [
        "DEBUG:tethne.model.managers.tap:TAPModelManager.author_theta(): KeyError on WOS:000320170600002\n"
       ]
      },
      {
       "output_type": "stream",
       "stream": "stderr",
       "text": [
        "DEBUG:tethne.model.managers.tap:TAPModelManager.author_theta(): KeyError on WOS:000257585900015\n"
       ]
      },
      {
       "output_type": "stream",
       "stream": "stderr",
       "text": [
        "DEBUG:tethne.model.managers.tap:TAPModelManager.author_theta(): KeyError on WOS:000288502600012\n"
       ]
      },
      {
       "output_type": "stream",
       "stream": "stderr",
       "text": [
        "DEBUG:tethne.model.managers.tap:TAPModelManager.author_theta(): KeyError on WOS:000259147600001\n"
       ]
      },
      {
       "output_type": "stream",
       "stream": "stderr",
       "text": [
        "DEBUG:tethne.model.managers.tap:TAPModelManager.author_theta(): KeyError on WOS:000259147600002\n"
       ]
      },
      {
       "output_type": "stream",
       "stream": "stderr",
       "text": [
        "DEBUG:tethne.model.managers.tap:TAPModelManager.author_theta(): KeyError on WOS:000259147600003\n"
       ]
      },
      {
       "output_type": "stream",
       "stream": "stderr",
       "text": [
        "DEBUG:tethne.model.managers.tap:TAPModelManager.author_theta(): KeyError on WOS:000269729200001\n"
       ]
      },
      {
       "output_type": "stream",
       "stream": "stderr",
       "text": [
        "DEBUG:tethne.model.managers.tap:TAPModelManager.author_theta(): KeyError on WOS:000269729200002\n"
       ]
      },
      {
       "output_type": "stream",
       "stream": "stderr",
       "text": [
        "DEBUG:tethne.model.managers.tap:TAPModelManager.author_theta(): KeyError on WOS:000234403100001\n"
       ]
      },
      {
       "output_type": "stream",
       "stream": "stderr",
       "text": [
        "DEBUG:tethne.model.managers.tap:TAPModelManager.author_theta(): KeyError on WOS:000234403100002\n"
       ]
      },
      {
       "output_type": "stream",
       "stream": "stderr",
       "text": [
        "DEBUG:tethne.model.managers.tap:TAPModelManager.author_theta(): KeyError on WOS:000306136400008\n"
       ]
      },
      {
       "output_type": "stream",
       "stream": "stderr",
       "text": [
        "DEBUG:tethne.model.managers.tap:TAPModelManager.author_theta(): KeyError on WOS:000306136400001\n"
       ]
      },
      {
       "output_type": "stream",
       "stream": "stderr",
       "text": [
        "DEBUG:tethne.model.managers.tap:TAPModelManager.author_theta(): KeyError on WOS:000306136400002\n"
       ]
      },
      {
       "output_type": "stream",
       "stream": "stderr",
       "text": [
        "DEBUG:tethne.model.managers.tap:TAPModelManager.author_theta(): KeyError on WOS:000246400300013\n"
       ]
      },
      {
       "output_type": "stream",
       "stream": "stderr",
       "text": [
        "DEBUG:tethne.model.managers.tap:TAPModelManager.author_theta(): KeyError on WOS:000246400300014\n"
       ]
      },
      {
       "output_type": "stream",
       "stream": "stderr",
       "text": [
        "DEBUG:tethne.model.managers.tap:TAPModelManager.author_theta(): KeyError on WOS:000271244000001\n"
       ]
      },
      {
       "output_type": "stream",
       "stream": "stderr",
       "text": [
        "DEBUG:tethne.model.managers.tap:TAPModelManager.author_theta(): KeyError on WOS:000271244000002\n"
       ]
      },
      {
       "output_type": "stream",
       "stream": "stderr",
       "text": [
        "DEBUG:tethne.model.managers.tap:TAPModelManager.author_theta(): KeyError on WOS:000233760600001\n"
       ]
      },
      {
       "output_type": "stream",
       "stream": "stderr",
       "text": [
        "DEBUG:tethne.model.managers.tap:TAPModelManager.author_theta(): KeyError on WOS:000186990000002\n"
       ]
      },
      {
       "output_type": "stream",
       "stream": "stderr",
       "text": [
        "DEBUG:tethne.model.managers.tap:TAPModelManager.author_theta(): KeyError on WOS:000294262300009\n"
       ]
      },
      {
       "output_type": "stream",
       "stream": "stderr",
       "text": [
        "DEBUG:tethne.model.managers.tap:TAPModelManager.author_theta(): KeyError on WOS:000178400200008\n"
       ]
      },
      {
       "output_type": "stream",
       "stream": "stderr",
       "text": [
        "DEBUG:tethne.model.managers.tap:TAPModelManager.author_theta(): KeyError on WOS:000178400200001\n"
       ]
      },
      {
       "output_type": "stream",
       "stream": "stderr",
       "text": [
        "DEBUG:tethne.model.managers.tap:TAPModelManager.author_theta(): KeyError on WOS:000170875400001\n"
       ]
      },
      {
       "output_type": "stream",
       "stream": "stderr",
       "text": [
        "DEBUG:tethne.model.managers.tap:TAPModelManager.author_theta(): KeyError on WOS:000170875400002\n"
       ]
      },
      {
       "output_type": "stream",
       "stream": "stderr",
       "text": [
        "DEBUG:tethne.model.managers.tap:TAPModelManager.author_theta(): KeyError on WOS:000167305400001\n"
       ]
      },
      {
       "output_type": "stream",
       "stream": "stderr",
       "text": [
        "DEBUG:tethne.model.managers.tap:TAPModelManager.author_theta(): KeyError on WOS:000255552300001\n"
       ]
      },
      {
       "output_type": "stream",
       "stream": "stderr",
       "text": [
        "DEBUG:tethne.model.managers.tap:TAPModelManager.author_theta(): KeyError on WOS:000255552300002\n"
       ]
      },
      {
       "output_type": "stream",
       "stream": "stderr",
       "text": [
        "DEBUG:tethne.model.managers.tap:TAPModelManager.author_theta(): KeyError on WOS:000257585900003\n"
       ]
      },
      {
       "output_type": "stream",
       "stream": "stderr",
       "text": [
        "DEBUG:tethne.model.managers.tap:TAPModelManager.author_theta(): KeyError on WOS:000176689500001\n"
       ]
      },
      {
       "output_type": "stream",
       "stream": "stderr",
       "text": [
        "DEBUG:tethne.model.managers.tap:TAPModelManager.author_theta(): KeyError on WOS:000257585900002\n"
       ]
      },
      {
       "output_type": "stream",
       "stream": "stderr",
       "text": [
        "DEBUG:tethne.model.managers.tap:TAPModelManager.author_theta(): KeyError on WOS:000222080200001\n"
       ]
      },
      {
       "output_type": "stream",
       "stream": "stderr",
       "text": [
        "DEBUG:tethne.model.managers.tap:TAPModelManager.author_theta(): KeyError on WOS:000267347300001\n"
       ]
      },
      {
       "output_type": "stream",
       "stream": "stderr",
       "text": [
        "DEBUG:tethne.model.managers.tap:TAPModelManager.author_theta(): KeyError on WOS:000179585200001\n"
       ]
      },
      {
       "output_type": "stream",
       "stream": "stderr",
       "text": [
        "DEBUG:tethne.model.managers.tap:TAPModelManager.author_theta(): KeyError on WOS:000282178100001\n"
       ]
      },
      {
       "output_type": "stream",
       "stream": "stderr",
       "text": [
        "DEBUG:tethne.model.managers.tap:TAPModelManager.author_theta(): KeyError on WOS:000252120200001\n"
       ]
      },
      {
       "output_type": "stream",
       "stream": "stderr",
       "text": [
        "DEBUG:tethne.model.managers.tap:TAPModelManager.author_theta(): KeyError on WOS:000252120200002\n"
       ]
      },
      {
       "output_type": "stream",
       "stream": "stderr",
       "text": [
        "DEBUG:tethne.model.managers.tap:TAPModelManager.author_theta(): KeyError on WOS:000255552300014\n"
       ]
      },
      {
       "output_type": "stream",
       "stream": "stderr",
       "text": [
        "DEBUG:tethne.model.managers.tap:TAPModelManager.author_theta(): KeyError on WOS:000088590800001\n"
       ]
      },
      {
       "output_type": "stream",
       "stream": "stderr",
       "text": [
        "DEBUG:tethne.model.managers.tap:TAPModelManager.author_theta(): KeyError on WOS:000088590800009\n"
       ]
      },
      {
       "output_type": "stream",
       "stream": "stderr",
       "text": [
        "DEBUG:tethne.model.managers.tap:TAPModelManager.author_theta(): KeyError on WOS:000078761000002\n"
       ]
      },
      {
       "output_type": "stream",
       "stream": "stderr",
       "text": [
        "DEBUG:tethne.model.managers.tap:TAPModelManager.author_theta(): KeyError on WOS:000078761000001\n"
       ]
      },
      {
       "output_type": "stream",
       "stream": "stderr",
       "text": [
        "DEBUG:tethne.model.managers.tap:TAPModelManager.author_theta(): KeyError on WOS:000078761000007\n"
       ]
      },
      {
       "output_type": "stream",
       "stream": "stderr",
       "text": [
        "DEBUG:tethne.model.managers.tap:TAPModelManager.author_theta(): KeyError on WOS:000231069300001\n"
       ]
      },
      {
       "output_type": "stream",
       "stream": "stderr",
       "text": [
        "DEBUG:tethne.model.managers.tap:TAPModelManager.author_theta(): KeyError on WOS:000271108600001\n"
       ]
      },
      {
       "output_type": "stream",
       "stream": "stderr",
       "text": [
        "DEBUG:tethne.model.managers.tap:TAPModelManager.author_theta(): KeyError on WOS:000313834800001\n"
       ]
      },
      {
       "output_type": "stream",
       "stream": "stderr",
       "text": [
        "DEBUG:tethne.model.managers.tap:TAPModelManager.author_theta(): KeyError on WOS:000313834800002\n"
       ]
      },
      {
       "output_type": "stream",
       "stream": "stderr",
       "text": [
        "DEBUG:tethne.model.managers.tap:TAPModelManager.author_theta(): KeyError on WOS:000263751600002\n"
       ]
      },
      {
       "output_type": "stream",
       "stream": "stderr",
       "text": [
        "DEBUG:tethne.model.managers.tap:TAPModelManager.author_theta(): KeyError on WOS:000263751600003\n"
       ]
      },
      {
       "output_type": "stream",
       "stream": "stderr",
       "text": [
        "DEBUG:tethne.model.managers.tap:TAPModelManager.author_theta(): KeyError on WOS:000263751600001\n"
       ]
      },
      {
       "output_type": "stream",
       "stream": "stderr",
       "text": [
        "DEBUG:tethne.model.managers.tap:TAPModelManager.author_theta(): KeyError on WOS:000172645200001\n"
       ]
      },
      {
       "output_type": "stream",
       "stream": "stderr",
       "text": [
        "DEBUG:tethne.model.managers.tap:TAPModelManager.author_theta(): KeyError on WOS:000086317300009\n"
       ]
      },
      {
       "output_type": "stream",
       "stream": "stderr",
       "text": [
        "DEBUG:tethne.model.managers.tap:TAPModelManager.author_theta(): KeyError on WOS:000086321900001\n"
       ]
      },
      {
       "output_type": "stream",
       "stream": "stderr",
       "text": [
        "DEBUG:tethne.model.managers.tap:TAPModelManager.author_theta(): KeyError on WOS:000086321900003\n"
       ]
      },
      {
       "output_type": "stream",
       "stream": "stderr",
       "text": [
        "DEBUG:tethne.model.managers.tap:TAPModelManager.author_theta(): KeyError on WOS:000086321900002\n"
       ]
      },
      {
       "output_type": "stream",
       "stream": "stderr",
       "text": [
        "DEBUG:tethne.model.managers.tap:TAPModelManager.author_theta(): KeyError on WOS:000166799200001\n"
       ]
      },
      {
       "output_type": "stream",
       "stream": "stderr",
       "text": [
        "DEBUG:tethne.model.managers.tap:TAPModelManager.author_theta(): KeyError on WOS:000276024400001\n"
       ]
      },
      {
       "output_type": "stream",
       "stream": "stderr",
       "text": [
        "DEBUG:tethne.model.managers.tap:TAPModelManager.author_theta(): KeyError on WOS:000287900300006\n"
       ]
      },
      {
       "output_type": "stream",
       "stream": "stderr",
       "text": [
        "DEBUG:tethne.model.managers.tap:TAPModelManager.author_theta(): KeyError on WOS:000087107600001\n"
       ]
      },
      {
       "output_type": "stream",
       "stream": "stderr",
       "text": [
        "DEBUG:tethne.model.managers.tap:TAPModelManager.author_theta(): KeyError on WOS:000087107600002\n"
       ]
      },
      {
       "output_type": "stream",
       "stream": "stderr",
       "text": [
        "DEBUG:tethne.model.managers.tap:TAPModelManager.author_theta(): KeyError on WOS:000310870100007\n"
       ]
      },
      {
       "output_type": "stream",
       "stream": "stderr",
       "text": [
        "DEBUG:tethne.model.managers.tap:TAPModelManager.author_theta(): KeyError on WOS:000310870100008\n"
       ]
      },
      {
       "output_type": "stream",
       "stream": "stderr",
       "text": [
        "DEBUG:tethne.model.managers.tap:TAPModelManager.author_theta(): KeyError on WOS:000250586300001\n"
       ]
      },
      {
       "output_type": "stream",
       "stream": "stderr",
       "text": [
        "DEBUG:tethne.model.managers.tap:TAPModelManager.author_theta(): KeyError on WOS:000250586300003\n"
       ]
      },
      {
       "output_type": "stream",
       "stream": "stderr",
       "text": [
        "DEBUG:tethne.model.managers.tap:TAPModelManager.author_theta(): KeyError on WOS:000250586300002\n"
       ]
      },
      {
       "output_type": "stream",
       "stream": "stderr",
       "text": [
        "DEBUG:tethne.model.managers.tap:TAPModelManager.author_theta(): KeyError on WOS:000079794700009\n"
       ]
      },
      {
       "output_type": "stream",
       "stream": "stderr",
       "text": [
        "DEBUG:tethne.model.managers.tap:TAPModelManager.author_theta(): KeyError on WOS:000079794700001\n"
       ]
      },
      {
       "output_type": "stream",
       "stream": "stderr",
       "text": [
        "DEBUG:tethne.model.managers.tap:TAPModelManager.author_theta(): KeyError on WOS:000165645100001\n"
       ]
      },
      {
       "output_type": "stream",
       "stream": "stderr",
       "text": [
        "DEBUG:tethne.model.managers.tap:TAPModelManager.author_theta(): KeyError on WOS:000255770500008\n"
       ]
      },
      {
       "output_type": "stream",
       "stream": "stderr",
       "text": [
        "DEBUG:tethne.model.managers.tap:TAPModelManager.author_theta(): KeyError on WOS:000173096700001\n"
       ]
      },
      {
       "output_type": "stream",
       "stream": "stderr",
       "text": [
        "DEBUG:tethne.model.managers.tap:TAPModelManager.author_theta(): KeyError on WOS:000086322000001\n"
       ]
      },
      {
       "output_type": "stream",
       "stream": "stderr",
       "text": [
        "DEBUG:tethne.model.managers.tap:TAPModelManager.author_theta(): KeyError on WOS:000086322000002\n"
       ]
      },
      {
       "output_type": "stream",
       "stream": "stderr",
       "text": [
        "DEBUG:tethne.model.managers.tap:TAPModelManager.author_theta(): KeyError on WOS:000179925400009\n"
       ]
      },
      {
       "output_type": "stream",
       "stream": "stderr",
       "text": [
        "DEBUG:tethne.model.managers.tap:TAPModelManager.author_theta(): KeyError on WOS:000179925400001\n"
       ]
      },
      {
       "output_type": "stream",
       "stream": "stderr",
       "text": [
        "DEBUG:tethne.model.managers.tap:TAPModelManager.author_theta(): KeyError on WOS:000179925400002\n"
       ]
      },
      {
       "output_type": "stream",
       "stream": "stderr",
       "text": [
        "DEBUG:tethne.model.managers.tap:TAPModelManager.author_theta(): KeyError on WOS:000179925400005\n"
       ]
      },
      {
       "output_type": "stream",
       "stream": "stderr",
       "text": [
        "DEBUG:tethne.model.managers.tap:TAPModelManager.author_theta(): KeyError on WOS:000179925400007\n"
       ]
      },
      {
       "output_type": "stream",
       "stream": "stderr",
       "text": [
        "DEBUG:tethne.model.managers.tap:TAPModelManager.author_theta(): KeyError on WOS:000086321100001\n"
       ]
      },
      {
       "output_type": "stream",
       "stream": "stderr",
       "text": [
        "DEBUG:tethne.model.managers.tap:TAPModelManager.author_theta(): KeyError on WOS:000089327700001\n"
       ]
      },
      {
       "output_type": "stream",
       "stream": "stderr",
       "text": [
        "DEBUG:tethne.model.managers.tap:TAPModelManager.author_theta(): KeyError on WOS:000089327700002\n"
       ]
      },
      {
       "output_type": "stream",
       "stream": "stderr",
       "text": [
        "DEBUG:tethne.model.managers.tap:TAPModelManager.author_theta(): KeyError on WOS:000233141300001\n"
       ]
      },
      {
       "output_type": "stream",
       "stream": "stderr",
       "text": [
        "DEBUG:tethne.model.managers.tap:TAPModelManager.author_theta(): KeyError on WOS:000173312000001\n"
       ]
      },
      {
       "output_type": "stream",
       "stream": "stderr",
       "text": [
        "DEBUG:tethne.model.managers.tap:TAPModelManager.author_theta(): KeyError on WOS:000269227200001\n"
       ]
      },
      {
       "output_type": "stream",
       "stream": "stderr",
       "text": [
        "DEBUG:tethne.model.managers.tap:TAPModelManager.author_theta(): KeyError on WOS:000228690100001\n"
       ]
      },
      {
       "output_type": "stream",
       "stream": "stderr",
       "text": [
        "DEBUG:tethne.model.managers.tap:TAPModelManager.author_theta(): KeyError on WOS:000224736700001\n"
       ]
      },
      {
       "output_type": "stream",
       "stream": "stderr",
       "text": [
        "DEBUG:tethne.model.managers.tap:TAPModelManager.author_theta(): KeyError on WOS:000223538400001\n"
       ]
      },
      {
       "output_type": "stream",
       "stream": "stderr",
       "text": [
        "DEBUG:tethne.model.managers.tap:TAPModelManager.author_theta(): KeyError on WOS:000170899500001\n"
       ]
      },
      {
       "output_type": "stream",
       "stream": "stderr",
       "text": [
        "DEBUG:tethne.model.managers.tap:TAPModelManager.author_theta(): KeyError on WOS:000276780300002\n"
       ]
      },
      {
       "output_type": "stream",
       "stream": "stderr",
       "text": [
        "DEBUG:tethne.model.managers.tap:TAPModelManager.author_theta(): KeyError on WOS:000183796900001\n"
       ]
      },
      {
       "output_type": "stream",
       "stream": "stderr",
       "text": [
        "DEBUG:tethne.model.managers.tap:TAPModelManager.author_theta(): KeyError on WOS:000086827100001\n"
       ]
      },
      {
       "output_type": "stream",
       "stream": "stderr",
       "text": [
        "DEBUG:tethne.model.managers.tap:TAPModelManager.author_theta(): KeyError on WOS:000233141300014\n"
       ]
      },
      {
       "output_type": "stream",
       "stream": "stderr",
       "text": [
        "DEBUG:tethne.model.managers.tap:TAPModelManager.author_theta(): KeyError on WOS:000080678700008\n"
       ]
      },
      {
       "output_type": "stream",
       "stream": "stderr",
       "text": [
        "DEBUG:tethne.model.managers.tap:TAPModelManager.author_theta(): KeyError on WOS:000175726400001\n"
       ]
      },
      {
       "output_type": "stream",
       "stream": "stderr",
       "text": [
        "DEBUG:tethne.model.managers.tap:TAPModelManager.author_theta(): KeyError on WOS:000175726400002\n"
       ]
      },
      {
       "output_type": "stream",
       "stream": "stderr",
       "text": [
        "DEBUG:tethne.model.managers.tap:TAPModelManager.author_theta(): KeyError on WOS:000175726400003\n"
       ]
      },
      {
       "output_type": "stream",
       "stream": "stderr",
       "text": [
        "DEBUG:tethne.model.managers.tap:TAPModelManager.author_theta(): KeyError on WOS:000248643000001\n"
       ]
      },
      {
       "output_type": "stream",
       "stream": "stderr",
       "text": [
        "DEBUG:tethne.model.managers.tap:TAPModelManager.author_theta(): KeyError on WOS:000082885300001\n"
       ]
      },
      {
       "output_type": "stream",
       "stream": "stderr",
       "text": [
        "DEBUG:tethne.model.managers.tap:TAPModelManager.author_theta(): KeyError on WOS:000231610400001\n"
       ]
      },
      {
       "output_type": "stream",
       "stream": "stderr",
       "text": [
        "DEBUG:tethne.model.managers.tap:TAPModelManager.author_theta(): KeyError on WOS:000222080200010\n"
       ]
      },
      {
       "output_type": "stream",
       "stream": "stderr",
       "text": [
        "DEBUG:tethne.model.managers.tap:TAPModelManager.author_theta(): KeyError on WOS:000276024000001\n"
       ]
      },
      {
       "output_type": "stream",
       "stream": "stderr",
       "text": [
        "DEBUG:tethne.model.managers.tap:TAPModelManager.author_theta(): KeyError on WOS:000276024000002\n"
       ]
      },
      {
       "output_type": "stream",
       "stream": "stderr",
       "text": [
        "DEBUG:tethne.model.managers.tap:TAPModelManager.author_theta(): KeyError on WOS:000220962000001\n"
       ]
      },
      {
       "output_type": "stream",
       "stream": "stderr",
       "text": [
        "DEBUG:tethne.model.managers.tap:TAPModelManager.author_theta(): KeyError on WOS:000171587600009\n"
       ]
      },
      {
       "output_type": "stream",
       "stream": "stderr",
       "text": [
        "DEBUG:tethne.model.managers.tap:TAPModelManager.author_theta(): KeyError on WOS:000220962000009\n"
       ]
      },
      {
       "output_type": "stream",
       "stream": "stderr",
       "text": [
        "DEBUG:tethne.model.managers.tap:TAPModelManager.author_theta(): KeyError on WOS:000087934100001\n"
       ]
      },
      {
       "output_type": "stream",
       "stream": "stderr",
       "text": [
        "DEBUG:tethne.model.managers.tap:TAPModelManager.author_theta(): KeyError on WOS:000186990000003\n"
       ]
      },
      {
       "output_type": "stream",
       "stream": "stderr",
       "text": [
        "DEBUG:tethne.model.managers.tap:TAPModelManager.author_theta(): KeyError on WOS:000186990000001\n"
       ]
      },
      {
       "output_type": "stream",
       "stream": "stderr",
       "text": [
        "DEBUG:tethne.model.managers.tap:TAPModelManager.author_theta(): KeyError on WOS:000279440800001\n"
       ]
      },
      {
       "output_type": "stream",
       "stream": "stderr",
       "text": [
        "DEBUG:tethne.model.managers.tap:TAPModelManager.author_theta(): KeyError on WOS:000170193800004\n"
       ]
      },
      {
       "output_type": "stream",
       "stream": "stderr",
       "text": [
        "DEBUG:tethne.model.managers.tap:TAPModelManager.author_theta(): KeyError on WOS:000169352200002\n"
       ]
      },
      {
       "output_type": "stream",
       "stream": "stderr",
       "text": [
        "DEBUG:tethne.model.managers.tap:TAPModelManager.author_theta(): KeyError on WOS:000169352200003\n"
       ]
      },
      {
       "output_type": "stream",
       "stream": "stderr",
       "text": [
        "DEBUG:tethne.model.managers.tap:TAPModelManager.author_theta(): KeyError on WOS:000222080200002\n"
       ]
      },
      {
       "output_type": "stream",
       "stream": "stderr",
       "text": [
        "DEBUG:tethne.model.managers.tap:TAPModelManager.author_theta(): KeyError on WOS:000169352200001\n"
       ]
      },
      {
       "output_type": "stream",
       "stream": "stderr",
       "text": [
        "DEBUG:tethne.model.managers.tap:TAPModelManager.author_theta(): KeyError on WOS:000181349800002\n"
       ]
      },
      {
       "output_type": "stream",
       "stream": "stderr",
       "text": [
        "DEBUG:tethne.model.managers.tap:TAPModelManager.author_theta(): KeyError on WOS:000181349800001\n"
       ]
      },
      {
       "output_type": "stream",
       "stream": "stderr",
       "text": [
        "DEBUG:tethne.model.managers.tap:TAPModelManager.author_theta(): KeyError on WOS:000226846100001\n"
       ]
      },
      {
       "output_type": "stream",
       "stream": "stderr",
       "text": [
        "DEBUG:tethne.model.managers.tap:TAPModelManager.author_theta(): KeyError on WOS:000227314600001\n"
       ]
      },
      {
       "output_type": "stream",
       "stream": "stderr",
       "text": [
        "DEBUG:tethne.model.managers.tap:TAPModelManager.author_theta(): KeyError on WOS:000276024000012\n"
       ]
      },
      {
       "output_type": "stream",
       "stream": "stderr",
       "text": [
        "DEBUG:tethne.model.managers.tap:TAPModelManager.author_theta(): KeyError on WOS:000176572200002\n"
       ]
      },
      {
       "output_type": "stream",
       "stream": "stderr",
       "text": [
        "DEBUG:tethne.model.managers.tap:TAPModelManager.author_theta(): KeyError on WOS:000176572200003\n"
       ]
      },
      {
       "output_type": "stream",
       "stream": "stderr",
       "text": [
        "DEBUG:tethne.model.managers.tap:TAPModelManager.author_theta(): KeyError on WOS:000176572200001\n"
       ]
      },
      {
       "output_type": "stream",
       "stream": "stderr",
       "text": [
        "DEBUG:tethne.model.managers.tap:TAPModelManager.author_theta(): KeyError on WOS:000182421500001\n"
       ]
      },
      {
       "output_type": "stream",
       "stream": "stderr",
       "text": [
        "DEBUG:tethne.model.managers.tap:TAPModelManager.author_theta(): KeyError on WOS:000262639200002\n"
       ]
      },
      {
       "output_type": "stream",
       "stream": "stderr",
       "text": [
        "DEBUG:tethne.model.managers.tap:TAPModelManager.author_theta(): KeyError on WOS:000262639200003\n"
       ]
      },
      {
       "output_type": "stream",
       "stream": "stderr",
       "text": [
        "DEBUG:tethne.model.managers.tap:TAPModelManager.author_theta(): KeyError on WOS:000262639200001\n"
       ]
      },
      {
       "output_type": "stream",
       "stream": "stderr",
       "text": [
        "DEBUG:tethne.model.managers.tap:TAPModelManager.author_theta(): KeyError on WOS:000262639200004\n"
       ]
      },
      {
       "output_type": "stream",
       "stream": "stderr",
       "text": [
        "DEBUG:tethne.model.managers.tap:TAPModelManager.author_theta(): KeyError on WOS:000262639200005\n"
       ]
      },
      {
       "output_type": "stream",
       "stream": "stderr",
       "text": [
        "DEBUG:tethne.model.managers.tap:TAPModelManager.author_theta(): KeyError on WOS:000185765400001\n"
       ]
      },
      {
       "output_type": "stream",
       "stream": "stderr",
       "text": [
        "DEBUG:tethne.model.managers.tap:TAPModelManager.author_theta(): KeyError on WOS:000185765400002\n"
       ]
      },
      {
       "output_type": "stream",
       "stream": "stderr",
       "text": [
        "DEBUG:tethne.model.managers.tap:TAPModelManager.author_theta(): KeyError on WOS:000266253700001\n"
       ]
      },
      {
       "output_type": "stream",
       "stream": "stderr",
       "text": [
        "DEBUG:tethne.model.managers.tap:TAPModelManager.author_theta(): KeyError on WOS:000266253700002\n"
       ]
      },
      {
       "output_type": "stream",
       "stream": "stderr",
       "text": [
        "DEBUG:tethne.model.managers.tap:TAPModelManager.author_theta(): KeyError on WOS:000229565700001\n"
       ]
      },
      {
       "output_type": "stream",
       "stream": "stderr",
       "text": [
        "DEBUG:tethne.model.managers.tap:TAPModelManager.author_theta(): KeyError on WOS:000229565700009\n"
       ]
      },
      {
       "output_type": "stream",
       "stream": "stderr",
       "text": [
        "DEBUG:tethne.model.managers.tap:TAPModelManager.author_theta(): KeyError on WOS:000235541700002\n"
       ]
      },
      {
       "output_type": "stream",
       "stream": "stderr",
       "text": [
        "DEBUG:tethne.model.managers.tap:TAPModelManager.author_theta(): KeyError on WOS:000235541700001\n"
       ]
      },
      {
       "output_type": "stream",
       "stream": "stderr",
       "text": [
        "DEBUG:tethne.model.managers.tap:TAPModelManager.author_theta(): KeyError on WOS:000239939800001\n"
       ]
      },
      {
       "output_type": "stream",
       "stream": "stderr",
       "text": [
        "DEBUG:tethne.model.managers.tap:TAPModelManager.author_theta(): KeyError on WOS:000083955400003\n"
       ]
      },
      {
       "output_type": "stream",
       "stream": "stderr",
       "text": [
        "DEBUG:tethne.model.managers.tap:TAPModelManager.author_theta(): KeyError on WOS:000080086100001\n"
       ]
      },
      {
       "output_type": "stream",
       "stream": "stderr",
       "text": [
        "DEBUG:tethne.model.managers.tap:TAPModelManager.author_theta(): KeyError on WOS:000290168300009\n"
       ]
      },
      {
       "output_type": "stream",
       "stream": "stderr",
       "text": [
        "DEBUG:tethne.model.managers.tap:TAPModelManager.author_theta(): KeyError on WOS:000290168300001\n"
       ]
      },
      {
       "output_type": "stream",
       "stream": "stderr",
       "text": [
        "DEBUG:tethne.model.managers.tap:TAPModelManager.author_theta(): KeyError on WOS:000253707300002\n"
       ]
      },
      {
       "output_type": "stream",
       "stream": "stderr",
       "text": [
        "DEBUG:tethne.model.managers.tap:TAPModelManager.author_theta(): KeyError on WOS:000253707300001\n"
       ]
      },
      {
       "output_type": "stream",
       "stream": "stderr",
       "text": [
        "DEBUG:tethne.model.managers.tap:TAPModelManager.author_theta(): KeyError on WOS:000277525100001\n"
       ]
      },
      {
       "output_type": "stream",
       "stream": "stderr",
       "text": [
        "DEBUG:tethne.model.managers.tap:TAPModelManager.author_theta(): KeyError on WOS:000277525100002\n"
       ]
      },
      {
       "output_type": "stream",
       "stream": "stderr",
       "text": [
        "DEBUG:tethne.model.managers.tap:TAPModelManager.author_theta(): KeyError on WOS:000295426900001\n"
       ]
      },
      {
       "output_type": "stream",
       "stream": "stderr",
       "text": [
        "DEBUG:tethne.model.managers.tap:TAPModelManager.author_theta(): KeyError on WOS:000235541700014\n"
       ]
      },
      {
       "output_type": "stream",
       "stream": "stderr",
       "text": [
        "DEBUG:tethne.model.managers.tap:TAPModelManager.author_theta(): KeyError on WOS:000174576400002\n"
       ]
      },
      {
       "output_type": "stream",
       "stream": "stderr",
       "text": [
        "DEBUG:tethne.model.managers.tap:TAPModelManager.author_theta(): KeyError on WOS:000174576400001\n"
       ]
      },
      {
       "output_type": "stream",
       "stream": "stderr",
       "text": [
        "DEBUG:tethne.model.managers.tap:TAPModelManager.author_theta(): KeyError on WOS:000182539500009\n"
       ]
      },
      {
       "output_type": "stream",
       "stream": "stderr",
       "text": [
        "DEBUG:tethne.model.managers.tap:TAPModelManager.author_theta(): KeyError on WOS:000188739700001\n"
       ]
      },
      {
       "output_type": "stream",
       "stream": "stderr",
       "text": [
        "DEBUG:tethne.model.managers.tap:TAPModelManager.author_theta(): KeyError on WOS:000086320200001\n"
       ]
      },
      {
       "output_type": "stream",
       "stream": "stderr",
       "text": [
        "DEBUG:tethne.model.managers.tap:TAPModelManager.author_theta(): KeyError on WOS:000086320200003\n"
       ]
      },
      {
       "output_type": "stream",
       "stream": "stderr",
       "text": [
        "DEBUG:tethne.model.managers.tap:TAPModelManager.author_theta(): KeyError on WOS:000086320200002\n"
       ]
      },
      {
       "output_type": "stream",
       "stream": "stderr",
       "text": [
        "DEBUG:tethne.model.managers.tap:TAPModelManager.author_theta(): KeyError on WOS:000086320200004\n"
       ]
      },
      {
       "output_type": "stream",
       "stream": "stderr",
       "text": [
        "DEBUG:tethne.model.managers.tap:TAPModelManager.author_theta(): KeyError on WOS:000249321200001\n"
       ]
      },
      {
       "output_type": "stream",
       "stream": "stderr",
       "text": [
        "DEBUG:tethne.model.managers.tap:TAPModelManager.author_theta(): KeyError on WOS:000267659600001\n"
       ]
      },
      {
       "output_type": "stream",
       "stream": "stderr",
       "text": [
        "DEBUG:tethne.model.managers.tap:TAPModelManager.author_theta(): KeyError on WOS:000230054900001\n"
       ]
      },
      {
       "output_type": "stream",
       "stream": "stderr",
       "text": [
        "DEBUG:tethne.model.managers.tap:TAPModelManager.author_theta(): KeyError on WOS:000230054900003\n"
       ]
      },
      {
       "output_type": "stream",
       "stream": "stderr",
       "text": [
        "DEBUG:tethne.model.managers.tap:TAPModelManager.author_theta(): KeyError on WOS:000230054900002\n"
       ]
      },
      {
       "output_type": "stream",
       "stream": "stderr",
       "text": [
        "DEBUG:tethne.model.managers.tap:TAPModelManager.author_theta(): KeyError on WOS:000086321100002\n"
       ]
      },
      {
       "output_type": "stream",
       "stream": "stderr",
       "text": [
        "DEBUG:tethne.model.managers.tap:TAPModelManager.author_theta(): KeyError on WOS:000248362400005\n"
       ]
      },
      {
       "output_type": "stream",
       "stream": "stderr",
       "text": [
        "DEBUG:tethne.model.managers.tap:TAPModelManager.author_theta(): KeyError on WOS:000248362400004\n"
       ]
      },
      {
       "output_type": "stream",
       "stream": "stderr",
       "text": [
        "DEBUG:tethne.model.managers.tap:TAPModelManager.author_theta(): KeyError on WOS:000248362400001\n"
       ]
      },
      {
       "output_type": "stream",
       "stream": "stderr",
       "text": [
        "DEBUG:tethne.model.managers.tap:TAPModelManager.author_theta(): KeyError on WOS:000248362400003\n"
       ]
      },
      {
       "output_type": "stream",
       "stream": "stderr",
       "text": [
        "DEBUG:tethne.model.managers.tap:TAPModelManager.author_theta(): KeyError on WOS:000248362400002\n"
       ]
      },
      {
       "output_type": "stream",
       "stream": "stderr",
       "text": [
        "DEBUG:tethne.model.managers.tap:TAPModelManager.author_theta(): KeyError on WOS:000082360900009\n"
       ]
      },
      {
       "output_type": "stream",
       "stream": "stderr",
       "text": [
        "DEBUG:tethne.model.managers.tap:TAPModelManager.author_theta(): KeyError on WOS:000082360900001\n"
       ]
      },
      {
       "output_type": "stream",
       "stream": "stderr",
       "text": [
        "DEBUG:tethne.model.managers.tap:TAPModelManager.author_theta(): KeyError on WOS:000238655100001\n"
       ]
      },
      {
       "output_type": "stream",
       "stream": "stderr",
       "text": [
        "DEBUG:tethne.model.managers.tap:TAPModelManager.author_theta(): KeyError on WOS:000257585900001\n"
       ]
      },
      {
       "output_type": "stream",
       "stream": "stderr",
       "text": [
        "DEBUG:tethne.model.managers.tap:TAPModelManager.author_theta(): KeyError on WOS:000257585900004\n"
       ]
      },
      {
       "output_type": "stream",
       "stream": "stderr",
       "text": [
        "DEBUG:tethne.model.managers.tap:TAPModelManager.author_theta(): KeyError on WOS:000171587600002\n"
       ]
      },
      {
       "output_type": "stream",
       "stream": "stderr",
       "text": [
        "DEBUG:tethne.model.managers.tap:TAPModelManager.author_theta(): KeyError on WOS:000171587600001\n"
       ]
      },
      {
       "output_type": "stream",
       "stream": "stderr",
       "text": [
        "DEBUG:tethne.model.managers.tap:TAPModelManager.author_theta(): KeyError on WOS:000179263000001\n"
       ]
      },
      {
       "output_type": "stream",
       "stream": "stderr",
       "text": [
        "DEBUG:tethne.model.managers.tap:TAPModelManager.author_theta(): KeyError on WOS:000310326200002\n"
       ]
      },
      {
       "output_type": "stream",
       "stream": "stderr",
       "text": [
        "DEBUG:tethne.model.managers.tap:TAPModelManager.author_theta(): KeyError on WOS:000249321200010\n"
       ]
      },
      {
       "output_type": "stream",
       "stream": "stderr",
       "text": [
        "DEBUG:tethne.model.managers.tap:TAPModelManager.author_theta(): KeyError on WOS:000249321200011\n"
       ]
      },
      {
       "output_type": "stream",
       "stream": "stderr",
       "text": [
        "DEBUG:tethne.model.managers.tap:TAPModelManager.author_theta(): KeyError on WOS:000302540800001\n"
       ]
      },
      {
       "output_type": "stream",
       "stream": "stderr",
       "text": [
        "DEBUG:tethne.model.managers.tap:TAPModelManager.author_theta(): KeyError on WOS:000246400300001\n"
       ]
      },
      {
       "output_type": "stream",
       "stream": "stderr",
       "text": [
        "DEBUG:tethne.model.managers.tap:TAPModelManager.author_theta(): KeyError on WOS:000246400300003\n"
       ]
      },
      {
       "output_type": "stream",
       "stream": "stderr",
       "text": [
        "DEBUG:tethne.model.managers.tap:TAPModelManager.author_theta(): KeyError on WOS:000246400300002\n"
       ]
      },
      {
       "output_type": "stream",
       "stream": "stderr",
       "text": [
        "DEBUG:tethne.model.managers.tap:TAPModelManager.author_theta(): initialize with shape (4730, 200)\n"
       ]
      }
     ],
     "prompt_number": 17
    },
    {
     "cell_type": "code",
     "collapsed": false,
     "input": [
      "tapmodel = TAPModel(graph, atheta)\n",
      "tapmodel.build()"
     ],
     "language": "python",
     "metadata": {},
     "outputs": [
      {
       "output_type": "stream",
       "stream": "stderr",
       "text": [
        "DEBUG:tethne.model.social.tapmodel:Loaded graph with 4730 nodes and 11858 edges.\n"
       ]
      },
      {
       "output_type": "stream",
       "stream": "stderr",
       "text": [
        "DEBUG:tethne.model.social.tapmodel:Loaded distributions over 200 topics for 4730 nodes.\n"
       ]
      },
      {
       "output_type": "stream",
       "stream": "stderr",
       "text": [
        "DEBUG:tethne.model.social.tapmodel:Calculated g\n"
       ]
      },
      {
       "output_type": "stream",
       "stream": "stderr",
       "text": [
        "DEBUG:tethne.model.social.tapmodel:Calculated b\n"
       ]
      },
      {
       "output_type": "stream",
       "stream": "stderr",
       "text": [
        "DEBUG:tethne.model.social.tapmodel:start iterations\n"
       ]
      },
      {
       "output_type": "stream",
       "stream": "stderr",
       "text": [
        "DEBUG:tethne.model.social.tapmodel:iteration 10, nc=1, dc=0\n"
       ]
      },
      {
       "output_type": "stream",
       "stream": "stderr",
       "text": [
        "DEBUG:tethne.model.social.tapmodel:iteration 20, nc=2, dc=0\n"
       ]
      },
      {
       "output_type": "stream",
       "stream": "stderr",
       "text": [
        "DEBUG:tethne.model.social.tapmodel:iteration 30, nc=0, dc=212488\n"
       ]
      },
      {
       "output_type": "stream",
       "stream": "stderr",
       "text": [
        "DEBUG:tethne.model.social.tapmodel:iteration 40, nc=0, dc=5753\n"
       ]
      },
      {
       "output_type": "stream",
       "stream": "stderr",
       "text": [
        "DEBUG:tethne.model.social.tapmodel:iteration 50, nc=0, dc=2563\n"
       ]
      },
      {
       "output_type": "stream",
       "stream": "stderr",
       "text": [
        "DEBUG:tethne.model.social.tapmodel:iteration 60, nc=0, dc=1420\n"
       ]
      },
      {
       "output_type": "stream",
       "stream": "stderr",
       "text": [
        "DEBUG:tethne.model.social.tapmodel:iteration 70, nc=0, dc=520\n"
       ]
      },
      {
       "output_type": "stream",
       "stream": "stderr",
       "text": [
        "DEBUG:tethne.model.social.tapmodel:iteration 80, nc=0, dc=243\n"
       ]
      },
      {
       "output_type": "stream",
       "stream": "stderr",
       "text": [
        "DEBUG:tethne.model.social.tapmodel:iteration 90, nc=0, dc=167\n"
       ]
      },
      {
       "output_type": "stream",
       "stream": "stderr",
       "text": [
        "DEBUG:tethne.model.social.tapmodel:iteration 100, nc=0, dc=43\n"
       ]
      },
      {
       "output_type": "stream",
       "stream": "stderr",
       "text": [
        "DEBUG:tethne.model.social.tapmodel:iteration 110, nc=0, dc=525\n"
       ]
      },
      {
       "output_type": "stream",
       "stream": "stderr",
       "text": [
        "DEBUG:tethne.model.social.tapmodel:iteration 120, nc=0, dc=380\n"
       ]
      },
      {
       "output_type": "stream",
       "stream": "stderr",
       "text": [
        "DEBUG:tethne.model.social.tapmodel:iteration 130, nc=0, dc=41\n"
       ]
      },
      {
       "output_type": "stream",
       "stream": "stderr",
       "text": [
        "DEBUG:tethne.model.social.tapmodel:iteration 140, nc=0, dc=50\n"
       ]
      },
      {
       "output_type": "stream",
       "stream": "stderr",
       "text": [
        "DEBUG:tethne.model.social.tapmodel:iteration 150, nc=0, dc=117\n"
       ]
      },
      {
       "output_type": "stream",
       "stream": "stderr",
       "text": [
        "DEBUG:tethne.model.social.tapmodel:iteration 160, nc=0, dc=101\n"
       ]
      },
      {
       "output_type": "stream",
       "stream": "stderr",
       "text": [
        "DEBUG:tethne.model.social.tapmodel:iteration 170, nc=0, dc=82\n"
       ]
      },
      {
       "output_type": "stream",
       "stream": "stderr",
       "text": [
        "DEBUG:tethne.model.social.tapmodel:iteration 180, nc=0, dc=138\n"
       ]
      },
      {
       "output_type": "stream",
       "stream": "stderr",
       "text": [
        "DEBUG:tethne.model.social.tapmodel:iteration 190, nc=0, dc=104\n"
       ]
      },
      {
       "output_type": "stream",
       "stream": "stderr",
       "text": [
        "DEBUG:tethne.model.social.tapmodel:iteration 200, nc=0, dc=26\n"
       ]
      },
      {
       "output_type": "stream",
       "stream": "stderr",
       "text": [
        "DEBUG:tethne.model.social.tapmodel:iteration 210, nc=0, dc=9\n"
       ]
      },
      {
       "output_type": "stream",
       "stream": "stderr",
       "text": [
        "DEBUG:tethne.model.social.tapmodel:iteration 220, nc=0, dc=15\n"
       ]
      },
      {
       "output_type": "stream",
       "stream": "stderr",
       "text": [
        "DEBUG:tethne.model.social.tapmodel:iteration 230, nc=0, dc=29\n"
       ]
      },
      {
       "output_type": "stream",
       "stream": "stderr",
       "text": [
        "DEBUG:tethne.model.social.tapmodel:iteration 240, nc=0, dc=6\n"
       ]
      },
      {
       "output_type": "stream",
       "stream": "stderr",
       "text": [
        "DEBUG:tethne.model.social.tapmodel:iteration 250, nc=0, dc=10\n"
       ]
      },
      {
       "output_type": "stream",
       "stream": "stderr",
       "text": [
        "DEBUG:tethne.model.social.tapmodel:iteration 260, nc=0, dc=12\n"
       ]
      },
      {
       "output_type": "stream",
       "stream": "stderr",
       "text": [
        "DEBUG:tethne.model.social.tapmodel:iteration 270, nc=0, dc=12\n"
       ]
      },
      {
       "output_type": "stream",
       "stream": "stderr",
       "text": [
        "DEBUG:tethne.model.social.tapmodel:iteration 280, nc=0, dc=8\n"
       ]
      },
      {
       "output_type": "stream",
       "stream": "stderr",
       "text": [
        "DEBUG:tethne.model.social.tapmodel:iteration 290, nc=0, dc=5\n"
       ]
      },
      {
       "output_type": "stream",
       "stream": "stderr",
       "text": [
        "DEBUG:tethne.model.social.tapmodel:iteration 300, nc=0, dc=2\n"
       ]
      },
      {
       "output_type": "stream",
       "stream": "stderr",
       "text": [
        "DEBUG:tethne.model.social.tapmodel:iteration 310, nc=0, dc=5\n"
       ]
      },
      {
       "output_type": "stream",
       "stream": "stderr",
       "text": [
        "DEBUG:tethne.model.social.tapmodel:iteration 320, nc=0, dc=12\n"
       ]
      },
      {
       "output_type": "stream",
       "stream": "stderr",
       "text": [
        "DEBUG:tethne.model.social.tapmodel:iteration 330, nc=0, dc=2\n"
       ]
      },
      {
       "output_type": "stream",
       "stream": "stderr",
       "text": [
        "DEBUG:tethne.model.social.tapmodel:iteration 340, nc=0, dc=3\n"
       ]
      },
      {
       "output_type": "stream",
       "stream": "stderr",
       "text": [
        "DEBUG:tethne.model.social.tapmodel:iteration 350, nc=1, dc=0\n"
       ]
      },
      {
       "output_type": "stream",
       "stream": "stderr",
       "text": [
        "DEBUG:tethne.model.social.tapmodel:iteration 360, nc=2, dc=0\n"
       ]
      },
      {
       "output_type": "stream",
       "stream": "stderr",
       "text": [
        "DEBUG:tethne.model.social.tapmodel:iteration 370, nc=0, dc=4\n"
       ]
      },
      {
       "output_type": "stream",
       "stream": "stderr",
       "text": [
        "DEBUG:tethne.model.social.tapmodel:iteration 380, nc=0, dc=2\n"
       ]
      },
      {
       "output_type": "stream",
       "stream": "stderr",
       "text": [
        "DEBUG:tethne.model.social.tapmodel:iteration 390, nc=0, dc=3\n"
       ]
      },
      {
       "output_type": "stream",
       "stream": "stderr",
       "text": [
        "DEBUG:tethne.model.social.tapmodel:iteration 400, nc=0, dc=2\n"
       ]
      },
      {
       "output_type": "stream",
       "stream": "stderr",
       "text": [
        "DEBUG:tethne.model.social.tapmodel:iteration 410, nc=0, dc=3\n"
       ]
      },
      {
       "output_type": "stream",
       "stream": "stderr",
       "text": [
        "DEBUG:tethne.model.social.tapmodel:iteration 420, nc=0, dc=1\n"
       ]
      },
      {
       "output_type": "stream",
       "stream": "stderr",
       "text": [
        "DEBUG:tethne.model.social.tapmodel:iteration 430, nc=1, dc=0\n"
       ]
      },
      {
       "output_type": "stream",
       "stream": "stderr",
       "text": [
        "DEBUG:tethne.model.social.tapmodel:iteration 440, nc=0, dc=4\n"
       ]
      },
      {
       "output_type": "stream",
       "stream": "stderr",
       "text": [
        "DEBUG:tethne.model.social.tapmodel:iteration 450, nc=0, dc=8\n"
       ]
      },
      {
       "output_type": "stream",
       "stream": "stderr",
       "text": [
        "DEBUG:tethne.model.social.tapmodel:iteration 460, nc=0, dc=2\n"
       ]
      },
      {
       "output_type": "stream",
       "stream": "stderr",
       "text": [
        "DEBUG:tethne.model.social.tapmodel:iteration 470, nc=1, dc=0\n"
       ]
      },
      {
       "output_type": "stream",
       "stream": "stderr",
       "text": [
        "DEBUG:tethne.model.social.tapmodel:iteration 480, nc=0, dc=2\n"
       ]
      },
      {
       "output_type": "stream",
       "stream": "stderr",
       "text": [
        "DEBUG:tethne.model.social.tapmodel:iteration 490, nc=1, dc=0\n"
       ]
      },
      {
       "output_type": "stream",
       "stream": "stderr",
       "text": [
        "DEBUG:tethne.model.social.tapmodel:iteration 500, nc=2, dc=0\n"
       ]
      },
      {
       "output_type": "stream",
       "stream": "stderr",
       "text": [
        "DEBUG:tethne.model.social.tapmodel:iteration 510, nc=0, dc=2\n"
       ]
      },
      {
       "output_type": "stream",
       "stream": "stderr",
       "text": [
        "DEBUG:tethne.model.social.tapmodel:iteration 520, nc=1, dc=0\n"
       ]
      },
      {
       "output_type": "stream",
       "stream": "stderr",
       "text": [
        "DEBUG:tethne.model.social.tapmodel:iteration 530, nc=0, dc=7\n"
       ]
      },
      {
       "output_type": "stream",
       "stream": "stderr",
       "text": [
        "DEBUG:tethne.model.social.tapmodel:iteration 540, nc=0, dc=3\n"
       ]
      },
      {
       "output_type": "stream",
       "stream": "stderr",
       "text": [
        "DEBUG:tethne.model.social.tapmodel:iteration 550, nc=0, dc=1\n"
       ]
      },
      {
       "output_type": "stream",
       "stream": "stderr",
       "text": [
        "DEBUG:tethne.model.social.tapmodel:iteration 560, nc=0, dc=20\n"
       ]
      },
      {
       "output_type": "stream",
       "stream": "stderr",
       "text": [
        "DEBUG:tethne.model.social.tapmodel:iteration 570, nc=1, dc=0\n"
       ]
      },
      {
       "output_type": "stream",
       "stream": "stderr",
       "text": [
        "DEBUG:tethne.model.social.tapmodel:iteration 580, nc=0, dc=2\n"
       ]
      },
      {
       "output_type": "stream",
       "stream": "stderr",
       "text": [
        "DEBUG:tethne.model.social.tapmodel:iteration 590, nc=1, dc=0\n"
       ]
      },
      {
       "output_type": "stream",
       "stream": "stderr",
       "text": [
        "DEBUG:tethne.model.social.tapmodel:iteration 600, nc=2, dc=0\n"
       ]
      },
      {
       "output_type": "stream",
       "stream": "stderr",
       "text": [
        "DEBUG:tethne.model.social.tapmodel:iteration 610, nc=0, dc=1\n"
       ]
      },
      {
       "output_type": "stream",
       "stream": "stderr",
       "text": [
        "DEBUG:tethne.model.social.tapmodel:iteration 620, nc=1, dc=0\n"
       ]
      },
      {
       "output_type": "stream",
       "stream": "stderr",
       "text": [
        "DEBUG:tethne.model.social.tapmodel:iteration 630, nc=2, dc=0\n"
       ]
      },
      {
       "output_type": "stream",
       "stream": "stderr",
       "text": [
        "DEBUG:tethne.model.social.tapmodel:iteration 640, nc=0, dc=1\n"
       ]
      },
      {
       "output_type": "stream",
       "stream": "stderr",
       "text": [
        "DEBUG:tethne.model.social.tapmodel:iteration 650, nc=0, dc=1\n"
       ]
      },
      {
       "output_type": "stream",
       "stream": "stderr",
       "text": [
        "DEBUG:tethne.model.social.tapmodel:iteration 660, nc=1, dc=0\n"
       ]
      },
      {
       "output_type": "stream",
       "stream": "stderr",
       "text": [
        "DEBUG:tethne.model.social.tapmodel:iteration 670, nc=2, dc=0\n"
       ]
      },
      {
       "output_type": "stream",
       "stream": "stderr",
       "text": [
        "DEBUG:tethne.model.social.tapmodel:iteration 680, nc=3, dc=0\n"
       ]
      },
      {
       "output_type": "stream",
       "stream": "stderr",
       "text": [
        "DEBUG:tethne.model.social.tapmodel:iteration 690, nc=0, dc=2\n"
       ]
      },
      {
       "output_type": "stream",
       "stream": "stderr",
       "text": [
        "DEBUG:tethne.model.social.tapmodel:iteration 700, nc=0, dc=1\n"
       ]
      },
      {
       "output_type": "stream",
       "stream": "stderr",
       "text": [
        "DEBUG:tethne.model.social.tapmodel:iteration 710, nc=1, dc=0\n"
       ]
      },
      {
       "output_type": "stream",
       "stream": "stderr",
       "text": [
        "DEBUG:tethne.model.social.tapmodel:iteration 720, nc=2, dc=0\n"
       ]
      },
      {
       "output_type": "stream",
       "stream": "stderr",
       "text": [
        "DEBUG:tethne.model.social.tapmodel:iteration 730, nc=3, dc=0\n"
       ]
      },
      {
       "output_type": "stream",
       "stream": "stderr",
       "text": [
        "DEBUG:tethne.model.social.tapmodel:iteration 740, nc=4, dc=0\n"
       ]
      },
      {
       "output_type": "stream",
       "stream": "stderr",
       "text": [
        "DEBUG:tethne.model.social.tapmodel:iteration 750, nc=0, dc=1\n"
       ]
      },
      {
       "output_type": "stream",
       "stream": "stderr",
       "text": [
        "DEBUG:tethne.model.social.tapmodel:iteration 760, nc=1, dc=0\n"
       ]
      },
      {
       "output_type": "stream",
       "stream": "stderr",
       "text": [
        "DEBUG:tethne.model.social.tapmodel:iteration 770, nc=2, dc=0\n"
       ]
      },
      {
       "output_type": "stream",
       "stream": "stderr",
       "text": [
        "DEBUG:tethne.model.social.tapmodel:iteration 780, nc=0, dc=2\n"
       ]
      },
      {
       "output_type": "stream",
       "stream": "stderr",
       "text": [
        "DEBUG:tethne.model.social.tapmodel:iteration 790, nc=0, dc=1\n"
       ]
      },
      {
       "output_type": "stream",
       "stream": "stderr",
       "text": [
        "DEBUG:tethne.model.social.tapmodel:iteration 800, nc=1, dc=0\n"
       ]
      },
      {
       "output_type": "stream",
       "stream": "stderr",
       "text": [
        "DEBUG:tethne.model.social.tapmodel:iteration 810, nc=2, dc=0\n"
       ]
      },
      {
       "output_type": "stream",
       "stream": "stderr",
       "text": [
        "DEBUG:tethne.model.social.tapmodel:iteration 820, nc=3, dc=0\n"
       ]
      },
      {
       "output_type": "stream",
       "stream": "stderr",
       "text": [
        "DEBUG:tethne.model.social.tapmodel:iteration 830, nc=0, dc=2\n"
       ]
      },
      {
       "output_type": "stream",
       "stream": "stderr",
       "text": [
        "DEBUG:tethne.model.social.tapmodel:iteration 840, nc=1, dc=0\n"
       ]
      },
      {
       "output_type": "stream",
       "stream": "stderr",
       "text": [
        "DEBUG:tethne.model.social.tapmodel:iteration 850, nc=2, dc=0\n"
       ]
      },
      {
       "output_type": "stream",
       "stream": "stderr",
       "text": [
        "DEBUG:tethne.model.social.tapmodel:iteration 860, nc=3, dc=0\n"
       ]
      },
      {
       "output_type": "stream",
       "stream": "stderr",
       "text": [
        "DEBUG:tethne.model.social.tapmodel:iteration 870, nc=0, dc=1\n"
       ]
      },
      {
       "output_type": "stream",
       "stream": "stderr",
       "text": [
        "DEBUG:tethne.model.social.tapmodel:iteration 880, nc=1, dc=0\n"
       ]
      },
      {
       "output_type": "stream",
       "stream": "stderr",
       "text": [
        "DEBUG:tethne.model.social.tapmodel:iteration 890, nc=2, dc=0\n"
       ]
      },
      {
       "output_type": "stream",
       "stream": "stderr",
       "text": [
        "DEBUG:tethne.model.social.tapmodel:iteration 900, nc=3, dc=0\n"
       ]
      },
      {
       "output_type": "stream",
       "stream": "stderr",
       "text": [
        "DEBUG:tethne.model.social.tapmodel:iteration 910, nc=4, dc=0\n"
       ]
      },
      {
       "output_type": "stream",
       "stream": "stderr",
       "text": [
        "DEBUG:tethne.model.social.tapmodel:iteration 920, nc=5, dc=0\n"
       ]
      }
     ],
     "prompt_number": 18
    },
    {
     "cell_type": "code",
     "collapsed": false,
     "input": [
      "from tethne.persistence.hdf5.tapmodel import HDF5TAPModel\n",
      "from tethne.persistence.hdf5.ldamodel import HDF5LDAModel\n",
      "from tethne.persistence.hdf5.corpus import HDF5Corpus"
     ],
     "language": "python",
     "metadata": {},
     "outputs": [],
     "prompt_number": 25
    },
    {
     "cell_type": "code",
     "collapsed": false,
     "input": [
      "H5model = HDF5TAPModel(tapmodel, '/Users/erickpeirson/Desktop/ed_journals/tapmodel.h5')"
     ],
     "language": "python",
     "metadata": {},
     "outputs": [],
     "prompt_number": 20
    },
    {
     "cell_type": "code",
     "collapsed": false,
     "input": [
      "H5ldamodel = HDF5LDAModel(manager.model.theta, manager.model.phi,\n",
      "                          manager.model.metadata, manager.model.vocabulary,\n",
      "                          '/Users/erickpeirson/Desktop/ed_journals/ldamodel.h5')"
     ],
     "language": "python",
     "metadata": {},
     "outputs": [],
     "prompt_number": 24
    },
    {
     "cell_type": "code",
     "collapsed": false,
     "input": [
      "H5corpus = corpus.to_hdf5('/Users/erickpeirson/Desktop/ed_journals/corpus.h5')"
     ],
     "language": "python",
     "metadata": {},
     "outputs": [
      {
       "ename": "KeyboardInterrupt",
       "evalue": "",
       "output_type": "pyerr",
       "traceback": [
        "\u001b[0;31m---------------------------------------------------------------------------\u001b[0m\n\u001b[0;31mKeyboardInterrupt\u001b[0m                         Traceback (most recent call last)",
        "\u001b[0;32m<ipython-input-26-1db00e01f24c>\u001b[0m in \u001b[0;36m<module>\u001b[0;34m()\u001b[0m\n\u001b[0;32m----> 1\u001b[0;31m \u001b[0mH5corpus\u001b[0m \u001b[0;34m=\u001b[0m \u001b[0mcorpus\u001b[0m\u001b[0;34m.\u001b[0m\u001b[0mto_hdf5\u001b[0m\u001b[0;34m(\u001b[0m\u001b[0;34m'/Users/erickpeirson/Desktop/ed_journals/corpus.h5'\u001b[0m\u001b[0;34m)\u001b[0m\u001b[0;34m\u001b[0m\u001b[0m\n\u001b[0m",
        "\u001b[0;32m/Users/erickpeirson/tethne/tethne/classes/corpus.pyc\u001b[0m in \u001b[0;36mto_hdf5\u001b[0;34m(self, datapath)\u001b[0m\n\u001b[1;32m   1350\u001b[0m                                     index=False)\n\u001b[1;32m   1351\u001b[0m \u001b[0;34m\u001b[0m\u001b[0m\n\u001b[0;32m-> 1352\u001b[0;31m         \u001b[0mHD\u001b[0m \u001b[0;34m=\u001b[0m \u001b[0m_migrate_values\u001b[0m\u001b[0;34m(\u001b[0m\u001b[0mself\u001b[0m\u001b[0;34m,\u001b[0m \u001b[0mHD\u001b[0m\u001b[0;34m)\u001b[0m\u001b[0;34m\u001b[0m\u001b[0m\n\u001b[0m\u001b[1;32m   1353\u001b[0m         \u001b[0;32mreturn\u001b[0m \u001b[0mHD\u001b[0m\u001b[0;34m\u001b[0m\u001b[0m\n\u001b[1;32m   1354\u001b[0m \u001b[0;34m\u001b[0m\u001b[0m\n",
        "\u001b[0;32m/Users/erickpeirson/tethne/tethne/classes/corpus.pyc\u001b[0m in \u001b[0;36m_migrate_values\u001b[0;34m(fromD, toD)\u001b[0m\n\u001b[1;32m   1444\u001b[0m     \u001b[0;31m# Transfer citations.\u001b[0m\u001b[0;34m\u001b[0m\u001b[0;34m\u001b[0m\u001b[0m\n\u001b[1;32m   1445\u001b[0m     \u001b[0;32mfor\u001b[0m \u001b[0mk\u001b[0m\u001b[0;34m,\u001b[0m\u001b[0mv\u001b[0m \u001b[0;32min\u001b[0m \u001b[0mfromD\u001b[0m\u001b[0;34m.\u001b[0m\u001b[0mcitations\u001b[0m\u001b[0;34m.\u001b[0m\u001b[0miteritems\u001b[0m\u001b[0;34m(\u001b[0m\u001b[0;34m)\u001b[0m\u001b[0;34m:\u001b[0m\u001b[0;34m\u001b[0m\u001b[0m\n\u001b[0;32m-> 1446\u001b[0;31m         \u001b[0mtoD\u001b[0m\u001b[0;34m.\u001b[0m\u001b[0mcitations\u001b[0m\u001b[0;34m[\u001b[0m\u001b[0mk\u001b[0m\u001b[0;34m]\u001b[0m \u001b[0;34m=\u001b[0m \u001b[0mv\u001b[0m\u001b[0;34m\u001b[0m\u001b[0m\n\u001b[0m\u001b[1;32m   1447\u001b[0m \u001b[0;34m\u001b[0m\u001b[0m\n\u001b[1;32m   1448\u001b[0m     \u001b[0;32mfor\u001b[0m \u001b[0mk\u001b[0m\u001b[0;34m,\u001b[0m\u001b[0mv\u001b[0m \u001b[0;32min\u001b[0m \u001b[0mfromD\u001b[0m\u001b[0;34m.\u001b[0m\u001b[0mpapers_citing\u001b[0m\u001b[0;34m.\u001b[0m\u001b[0miteritems\u001b[0m\u001b[0;34m(\u001b[0m\u001b[0;34m)\u001b[0m\u001b[0;34m:\u001b[0m\u001b[0;34m\u001b[0m\u001b[0m\n",
        "\u001b[0;32m/Users/erickpeirson/tethne/tethne/persistence/hdf5/util.pyc\u001b[0m in \u001b[0;36m__setitem__\u001b[0;34m(self, key, value)\u001b[0m\n\u001b[1;32m    560\u001b[0m                     \u001b[0mhpaper\u001b[0m\u001b[0;34m[\u001b[0m\u001b[0mk\u001b[0m\u001b[0;34m]\u001b[0m \u001b[0;34m=\u001b[0m \u001b[0mv\u001b[0m\u001b[0;34m\u001b[0m\u001b[0m\n\u001b[1;32m    561\u001b[0m         \u001b[0mhpaper\u001b[0m\u001b[0;34m.\u001b[0m\u001b[0mappend\u001b[0m\u001b[0;34m(\u001b[0m\u001b[0;34m)\u001b[0m\u001b[0;34m\u001b[0m\u001b[0m\n\u001b[0;32m--> 562\u001b[0;31m         \u001b[0mself\u001b[0m\u001b[0;34m.\u001b[0m\u001b[0mtable\u001b[0m\u001b[0;34m.\u001b[0m\u001b[0mflush\u001b[0m\u001b[0;34m(\u001b[0m\u001b[0;34m)\u001b[0m  \u001b[0;31m# We need table completely up-to-date for subsequent\u001b[0m\u001b[0;34m\u001b[0m\u001b[0m\n\u001b[0m\u001b[1;32m    563\u001b[0m                             \u001b[0;31m#  operations.\u001b[0m\u001b[0;34m\u001b[0m\u001b[0;34m\u001b[0m\u001b[0m\n\u001b[1;32m    564\u001b[0m \u001b[0;34m\u001b[0m\u001b[0m\n",
        "\u001b[0;32m//anaconda/lib/python2.7/site-packages/tables/table.pyc\u001b[0m in \u001b[0;36mflush\u001b[0;34m(self)\u001b[0m\n\u001b[1;32m   2969\u001b[0m         \u001b[0;32mif\u001b[0m \u001b[0mself\u001b[0m\u001b[0;34m.\u001b[0m\u001b[0mindexed\u001b[0m \u001b[0;32mand\u001b[0m \u001b[0mself\u001b[0m\u001b[0;34m.\u001b[0m\u001b[0mautoindex\u001b[0m\u001b[0;34m:\u001b[0m\u001b[0;34m\u001b[0m\u001b[0m\n\u001b[1;32m   2970\u001b[0m             \u001b[0;31m# Flush any unindexed row\u001b[0m\u001b[0;34m\u001b[0m\u001b[0;34m\u001b[0m\u001b[0m\n\u001b[0;32m-> 2971\u001b[0;31m             \u001b[0mrowsadded\u001b[0m \u001b[0;34m=\u001b[0m \u001b[0mself\u001b[0m\u001b[0;34m.\u001b[0m\u001b[0mflush_rows_to_index\u001b[0m\u001b[0;34m(\u001b[0m\u001b[0m_lastrow\u001b[0m\u001b[0;34m=\u001b[0m\u001b[0mTrue\u001b[0m\u001b[0;34m)\u001b[0m\u001b[0;34m\u001b[0m\u001b[0m\n\u001b[0m\u001b[1;32m   2972\u001b[0m             \u001b[0;32massert\u001b[0m \u001b[0mrowsadded\u001b[0m \u001b[0;34m<=\u001b[0m \u001b[0;36m0\u001b[0m \u001b[0;32mor\u001b[0m \u001b[0mself\u001b[0m\u001b[0;34m.\u001b[0m\u001b[0m_indexedrows\u001b[0m \u001b[0;34m==\u001b[0m \u001b[0mself\u001b[0m\u001b[0;34m.\u001b[0m\u001b[0mnrows\u001b[0m\u001b[0;34m,\u001b[0m\u001b[0;31m \u001b[0m\u001b[0;31m\\\u001b[0m\u001b[0;34m\u001b[0m\u001b[0m\n\u001b[1;32m   2973\u001b[0m                 (\"internal error: the number of indexed rows (%d) \"\n",
        "\u001b[0;32m//anaconda/lib/python2.7/site-packages/tables/table.pyc\u001b[0m in \u001b[0;36mflush_rows_to_index\u001b[0;34m(self, _lastrow)\u001b[0m\n\u001b[1;32m   2578\u001b[0m                     \u001b[0;32mif\u001b[0m \u001b[0mnrows\u001b[0m \u001b[0;34m>\u001b[0m \u001b[0;36m0\u001b[0m \u001b[0;32mand\u001b[0m \u001b[0;32mnot\u001b[0m \u001b[0mcol\u001b[0m\u001b[0;34m.\u001b[0m\u001b[0mindex\u001b[0m\u001b[0;34m.\u001b[0m\u001b[0mdirty\u001b[0m\u001b[0;34m:\u001b[0m\u001b[0;34m\u001b[0m\u001b[0m\n\u001b[1;32m   2579\u001b[0m                         rowsadded = self._add_rows_to_index(\n\u001b[0;32m-> 2580\u001b[0;31m                             colname, start, nrows, _lastrow, update=True)\n\u001b[0m\u001b[1;32m   2581\u001b[0m             \u001b[0mself\u001b[0m\u001b[0;34m.\u001b[0m\u001b[0m_unsaved_indexedrows\u001b[0m \u001b[0;34m-=\u001b[0m \u001b[0mrowsadded\u001b[0m\u001b[0;34m\u001b[0m\u001b[0m\n\u001b[1;32m   2582\u001b[0m             \u001b[0mself\u001b[0m\u001b[0;34m.\u001b[0m\u001b[0m_indexedrows\u001b[0m \u001b[0;34m+=\u001b[0m \u001b[0mrowsadded\u001b[0m\u001b[0;34m\u001b[0m\u001b[0m\n",
        "\u001b[0;32m//anaconda/lib/python2.7/site-packages/tables/table.pyc\u001b[0m in \u001b[0;36m_add_rows_to_index\u001b[0;34m(self, colname, start, nrows, lastrow, update)\u001b[0m\n\u001b[1;32m   2609\u001b[0m         \u001b[0;32mif\u001b[0m \u001b[0mlastrow\u001b[0m \u001b[0;32mand\u001b[0m \u001b[0mstartLR\u001b[0m \u001b[0;34m<\u001b[0m \u001b[0mself\u001b[0m\u001b[0;34m.\u001b[0m\u001b[0mnrows\u001b[0m\u001b[0;34m:\u001b[0m\u001b[0;34m\u001b[0m\u001b[0m\n\u001b[1;32m   2610\u001b[0m             index.append_last_row(\n\u001b[0;32m-> 2611\u001b[0;31m                 \u001b[0;34m[\u001b[0m\u001b[0mself\u001b[0m\u001b[0;34m.\u001b[0m\u001b[0m_read\u001b[0m\u001b[0;34m(\u001b[0m\u001b[0mstartLR\u001b[0m\u001b[0;34m,\u001b[0m \u001b[0mself\u001b[0m\u001b[0;34m.\u001b[0m\u001b[0mnrows\u001b[0m\u001b[0;34m,\u001b[0m \u001b[0;36m1\u001b[0m\u001b[0;34m,\u001b[0m \u001b[0mcolname\u001b[0m\u001b[0;34m)\u001b[0m\u001b[0;34m]\u001b[0m\u001b[0;34m,\u001b[0m\u001b[0;34m\u001b[0m\u001b[0m\n\u001b[0m\u001b[1;32m   2612\u001b[0m                 update=update)\n\u001b[1;32m   2613\u001b[0m             \u001b[0mindexedrows\u001b[0m \u001b[0;34m+=\u001b[0m \u001b[0mself\u001b[0m\u001b[0;34m.\u001b[0m\u001b[0mnrows\u001b[0m \u001b[0;34m-\u001b[0m \u001b[0mstartLR\u001b[0m\u001b[0;34m\u001b[0m\u001b[0m\n",
        "\u001b[0;32m//anaconda/lib/python2.7/site-packages/tables/table.pyc\u001b[0m in \u001b[0;36m_read\u001b[0;34m(self, start, stop, step, field, out)\u001b[0m\n\u001b[1;32m   1895\u001b[0m             \u001b[0mself\u001b[0m\u001b[0;34m.\u001b[0m\u001b[0m_read_field_name\u001b[0m\u001b[0;34m(\u001b[0m\u001b[0mresult\u001b[0m\u001b[0;34m,\u001b[0m \u001b[0mstart\u001b[0m\u001b[0;34m,\u001b[0m \u001b[0mstop\u001b[0m\u001b[0;34m,\u001b[0m \u001b[0mstep\u001b[0m\u001b[0;34m,\u001b[0m \u001b[0mfield\u001b[0m\u001b[0;34m)\u001b[0m\u001b[0;34m\u001b[0m\u001b[0m\n\u001b[1;32m   1896\u001b[0m         \u001b[0;32melse\u001b[0m\u001b[0;34m:\u001b[0m\u001b[0;34m\u001b[0m\u001b[0m\n\u001b[0;32m-> 1897\u001b[0;31m             \u001b[0mself\u001b[0m\u001b[0;34m.\u001b[0m\u001b[0mrow\u001b[0m\u001b[0;34m.\u001b[0m\u001b[0m_fill_col\u001b[0m\u001b[0;34m(\u001b[0m\u001b[0mresult\u001b[0m\u001b[0;34m,\u001b[0m \u001b[0mstart\u001b[0m\u001b[0;34m,\u001b[0m \u001b[0mstop\u001b[0m\u001b[0;34m,\u001b[0m \u001b[0mstep\u001b[0m\u001b[0;34m,\u001b[0m \u001b[0mfield\u001b[0m\u001b[0;34m)\u001b[0m\u001b[0;34m\u001b[0m\u001b[0m\n\u001b[0m\u001b[1;32m   1898\u001b[0m \u001b[0;34m\u001b[0m\u001b[0m\n\u001b[1;32m   1899\u001b[0m         \u001b[0;32mif\u001b[0m \u001b[0mselect_field\u001b[0m\u001b[0;34m:\u001b[0m\u001b[0;34m\u001b[0m\u001b[0m\n",
        "\u001b[0;32m//anaconda/lib/python2.7/site-packages/tables/tableextension.so\u001b[0m in \u001b[0;36mtables.tableextension.Row._fill_col (tables/tableextension.c:12625)\u001b[0;34m()\u001b[0m\n",
        "\u001b[0;32m//anaconda/lib/python2.7/site-packages/tables/tableextension.so\u001b[0m in \u001b[0;36mtables.tableextension.Row.table.__get__ (tables/tableextension.c:7943)\u001b[0;34m()\u001b[0m\n",
        "\u001b[0;32m//anaconda/lib/python2.7/site-packages/tables/file.pyc\u001b[0m in \u001b[0;36m_get_node\u001b[0;34m(self, nodepath)\u001b[0m\n\u001b[1;32m   1555\u001b[0m     \u001b[0mcreateExternalLink\u001b[0m \u001b[0;34m=\u001b[0m \u001b[0mprevious_api\u001b[0m\u001b[0;34m(\u001b[0m\u001b[0mcreate_external_link\u001b[0m\u001b[0;34m)\u001b[0m\u001b[0;34m\u001b[0m\u001b[0m\n\u001b[1;32m   1556\u001b[0m \u001b[0;34m\u001b[0m\u001b[0m\n\u001b[0;32m-> 1557\u001b[0;31m     \u001b[0;32mdef\u001b[0m \u001b[0m_get_node\u001b[0m\u001b[0;34m(\u001b[0m\u001b[0mself\u001b[0m\u001b[0;34m,\u001b[0m \u001b[0mnodepath\u001b[0m\u001b[0;34m)\u001b[0m\u001b[0;34m:\u001b[0m\u001b[0;34m\u001b[0m\u001b[0m\n\u001b[0m\u001b[1;32m   1558\u001b[0m         \u001b[0;31m# The root node is always at hand.\u001b[0m\u001b[0;34m\u001b[0m\u001b[0;34m\u001b[0m\u001b[0m\n\u001b[1;32m   1559\u001b[0m         \u001b[0;32mif\u001b[0m \u001b[0mnodepath\u001b[0m \u001b[0;34m==\u001b[0m \u001b[0;34m'/'\u001b[0m\u001b[0;34m:\u001b[0m\u001b[0;34m\u001b[0m\u001b[0m\n",
        "\u001b[0;31mKeyboardInterrupt\u001b[0m: "
       ]
      }
     ],
     "prompt_number": 26
    },
    {
     "cell_type": "code",
     "collapsed": false,
     "input": [
      "from tethne.writers.graph import to_graphml"
     ],
     "language": "python",
     "metadata": {},
     "outputs": [],
     "prompt_number": 27
    },
    {
     "cell_type": "code",
     "collapsed": false,
     "input": [
      "for i in xrange(200):\n",
      "    topic_graph = tapmodel.graph(i)\n",
      "    for edge in topic_graph.edges(data=True):\n",
      "        topic_graph[edge[0]][edge[1]]['_weight'] = edge[2]['weight']*topic_graph.node[edge[1]]['theta']    \n",
      "    to_graphml(topic_graph, '/Users/erickpeirson/Desktop/ed_journals/graphs/topic_{0}.graphml'.format(i))"
     ],
     "language": "python",
     "metadata": {},
     "outputs": [],
     "prompt_number": 42
    },
    {
     "cell_type": "code",
     "collapsed": false,
     "input": [
      "topic1 = tapmodel.graph(1)"
     ],
     "language": "python",
     "metadata": {},
     "outputs": [],
     "prompt_number": 29
    },
    {
     "cell_type": "code",
     "collapsed": false,
     "input": [
      "for edge in topic1.edges(data=True):\n",
      "    topic1[edge[0]][edge[1]]['_weight'] = edge[2]['weight']*topic1.node[edge[1]]['theta']"
     ],
     "language": "python",
     "metadata": {},
     "outputs": [],
     "prompt_number": 37
    },
    {
     "cell_type": "code",
     "collapsed": false,
     "input": [
      "topic1[1]"
     ],
     "language": "python",
     "metadata": {},
     "outputs": [
      {
       "metadata": {},
       "output_type": "pyout",
       "prompt_number": 39,
       "text": [
        "{380: {'_weight': 0.0005456262566352671, 'weight': 0.19614077782001688}}"
       ]
      }
     ],
     "prompt_number": 39
    },
    {
     "cell_type": "code",
     "collapsed": false,
     "input": [
      "topic1.node[380]"
     ],
     "language": "python",
     "metadata": {},
     "outputs": [
      {
       "metadata": {},
       "output_type": "pyout",
       "prompt_number": 40,
       "text": [
        "{'theta': 0.0027818093855829706}"
       ]
      }
     ],
     "prompt_number": 40
    },
    {
     "cell_type": "code",
     "collapsed": false,
     "input": [
      "to_graphml(topic1, '/Users/erickpeirson/Desktop/ed_journals/graphs/topic_1.graphml')"
     ],
     "language": "python",
     "metadata": {},
     "outputs": [],
     "prompt_number": 41
    },
    {
     "cell_type": "code",
     "collapsed": false,
     "input": [],
     "language": "python",
     "metadata": {},
     "outputs": []
    }
   ],
   "metadata": {}
  }
 ]
}