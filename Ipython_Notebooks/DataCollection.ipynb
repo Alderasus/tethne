{
 "metadata": {
  "name": ""
 },
 "nbformat": 3,
 "nbformat_minor": 0,
 "worksheets": [
  {
   "cells": [
    {
     "cell_type": "code",
     "collapsed": false,
     "input": [
      "import tethne.readers as rd\n",
      "data = rd.wos.read(\"/Users/ramki/tethne/testsuite/testin/coauthors.txt\")\n",
      "data += rd.wos.read(\"/Users/ramki/tethne/testsuite/testin/wos_authors.txt\")\n",
      "from tethne.data import DataCollection\n",
      "D = DataCollection(data) # Indexed by wosid, by default.\n",
      "print D.papers()\n",
      "D.slice('date', 'time_window', window_size=4)\n",
      "D.slice('accession')\n",
      "print \"slices\",D.get_slices('date')\n",
      "\n",
      "print D.distribution(),D.indices(),D.get_axes()\n",
      "for paper in D.papers():\n",
      "    print paper['ayjid']\n",
      "from tethne.builders import authorCollectionBuilder\n",
      "builder = authorCollectionBuilder(D)\n",
      "C = builder.build('date', 'coauthors')\n",
      "print C.nodes(),C.edges()\n",
      "        "
     ],
     "language": "python",
     "metadata": {},
     "outputs": [
      {
       "output_type": "stream",
       "stream": "stdout",
       "text": [
        " [<tethne.data.Paper object at 0x104698d50>, <tethne.data.Paper object at 0x1046e3f90>, <tethne.data.Paper object at 0x1048e0d10>, <tethne.data.Paper object at 0x1046be810>, <tethne.data.Paper object at 0x1032508d0>, <tethne.data.Paper object at 0x104803190>, <tethne.data.Paper object at 0x1046397d0>, <tethne.data.Paper object at 0x1047c8ad0>, <tethne.data.Paper object at 0x1046e3b10>, <tethne.data.Paper object at 0x1048e0810>]\n",
        "slices {1985: ['WOS:A1985AFX8700004'], 1986: [], 1987: [], 1988: [], 1989: [], 1990: ['WOS:A1993LG89300004'], 1991: ['WOS:A1993LG89300004'], 1992: ['WOS:A1993LG89300004'], 1993: ['WOS:A1993LG89300004'], 1994: [], 1995: [], 1996: [], 1997: [], 1998: [], 1999: [], 2000: [], 2001: [], 2002: [], 2003: [], 2004: [], 2005: [], 2006: [], 2007: [], 2008: [], 2009: [], 2010: ['WOS:000323351800001', 'WOS:000324229600003', 'WOS:000323804100014', 'WOS:000324448700005', 'WOS:000323360500013', 'WOS:000323804100025'], 2011: ['WOS:000323351800001', 'WOS:000323472800005', 'WOS:000324229600003', 'WOS:000323804100014', 'WOS:000324448700005', 'WOS:000323360500013', 'WOS:000323804100025', 'WOS:000323049100008']}\n",
        "[[ 1.  0.]\n",
        " [ 0.  0.]\n",
        " [ 0.  0.]\n",
        " [ 0.  0.]\n",
        " [ 0.  0.]\n",
        " [ 1.  0.]\n",
        " [ 1.  0.]\n",
        " [ 1.  0.]\n",
        " [ 1.  0.]\n",
        " [ 0.  0.]\n",
        " [ 0.  0.]\n",
        " [ 0.  0.]\n",
        " [ 0.  0.]\n",
        " [ 0.  0.]\n",
        " [ 0.  0.]\n",
        " [ 0.  0.]\n",
        " [ 0.  0.]\n",
        " [ 0.  0.]\n",
        " [ 0.  0.]\n",
        " [ 0.  0.]\n",
        " [ 0.  0.]\n",
        " [ 0.  0.]\n",
        " [ 0.  0.]\n",
        " [ 0.  0.]\n",
        " [ 0.  0.]\n",
        " [ 0.  6.]\n",
        " [ 0.  8.]] ['WOS:000323351800001', 'WOS:000323472800005', 'WOS:A1985AFX8700004', 'WOS:000324229600003', 'WOS:000323804100014', 'WOS:000324448700005', 'WOS:000323360500013', 'WOS:000323804100025', 'WOS:000323049100008', 'WOS:A1993LG89300004'] ['date', 'accession']\n",
        "VAN DER AALST WMP 2013 DISTRIBUTED AND PARALLEL DATABASES\n",
        "MODIS K 2014 SOIL & SEDIMENT CONTAMINATION\n",
        "ADAMS SM 1985 JOURNAL OF FISH BIOLOGY\n",
        "PAGANO D 2013 EMPIRICAL SOFTWARE ENGINEERING\n",
        "HERMAN G 2013 PATTERN RECOGNITION\n",
        "CHEN TY 2013 ADVANCES IN ENGINEERING SOFTWARE\n",
        "HUANG TCK 2013 EUROPEAN JOURNAL OF OPERATIONAL RESEARCH\n",
        "GALAR M 2013 PATTERN RECOGNITION\n",
        "TUERHONG G 2014 COMMUNICATIONS IN STATISTICS-SIMULATION AND COMPUTATION\n",
        "ADAMS SM 1993 TRANSACTIONS OF THE AMERICAN FISHERIES SOCIETY\n",
        "['TUERHONG G', 'MCLEAN RB', 'KANG P', 'ZHANG B', 'CHO S', 'ADAMS SM', 'CHEN FT', 'VATALIS KI', 'MODIS K', 'HERMAN G', 'WANG Y', 'MAALEJ W', 'GALAR M', 'CHEN TY', 'KIM SB', 'BARRENECHEA E', 'YE G', 'HUANG JH', 'FERNANDEZ A', 'PAGANO D', 'HERRERA F'] [('CHEN FT', 'HERMAN G'), ('FERNANDEZ A', 'BARRENECHEA E'), ('HERMAN G', 'CHEN FT'), ('ZHANG B', 'YE G'), ('CHEN FT', 'WANG Y'), ('CHEN FT', 'ZHANG B'), ('KANG P', 'CHO S'), ('VATALIS KI', 'MODIS K'), ('KANG P', 'KIM SB'), ('WANG Y', 'ZHANG B'), ('YE G', 'CHEN FT'), ('BARRENECHEA E', 'GALAR M'), ('MCLEAN RB', 'ADAMS SM'), ('BARRENECHEA E', 'HERRERA F'), ('WANG Y', 'YE G'), ('GALAR M', 'BARRENECHEA E'), ('PAGANO D', 'MAALEJ W'), ('YE G', 'HERMAN G'), ('HERMAN G', 'YE G'), ('ZHANG B', 'CHEN FT'), ('YE G', 'WANG Y'), ('YE G', 'ZHANG B'), ('FERNANDEZ A', 'HERRERA F'), ('HUANG JH', 'CHEN TY'), ('WANG Y', 'HERMAN G'), ('TUERHONG G', 'CHO S'), ('GALAR M', 'HERRERA F'), ('TUERHONG G', 'KIM SB'), ('CHEN FT', 'YE G'), ('TUERHONG G', 'KANG P'), ('ZHANG B', 'HERMAN G'), ('KIM SB', 'CHO S'), ('WANG Y', 'CHEN FT'), ('MAALEJ W', 'PAGANO D'), ('FERNANDEZ A', 'GALAR M')]\n"
       ]
      }
     ],
     "prompt_number": 30
    },
    {
     "cell_type": "code",
     "collapsed": false,
     "input": [
      "import matplotlib.pyplot as plt\n",
      "plt.plot([1,2,3,4], [1,4,9,16], 'ro')\n",
      "plt.axis([0, 6, 0, 20])\n",
      "plt.show()"
     ],
     "language": "python",
     "metadata": {},
     "outputs": [
      {
       "ename": "ImportError",
       "evalue": "No module named matplotlib.pyplot",
       "output_type": "pyerr",
       "traceback": [
        "\u001b[0;31m---------------------------------------------------------------------------\u001b[0m\n\u001b[0;31mImportError\u001b[0m                               Traceback (most recent call last)",
        "\u001b[0;32m<ipython-input-31-4d607c927b3f>\u001b[0m in \u001b[0;36m<module>\u001b[0;34m()\u001b[0m\n\u001b[0;32m----> 1\u001b[0;31m \u001b[0;32mimport\u001b[0m \u001b[0mmatplotlib\u001b[0m\u001b[0;34m.\u001b[0m\u001b[0mpyplot\u001b[0m \u001b[0;32mas\u001b[0m \u001b[0mplt\u001b[0m\u001b[0;34m\u001b[0m\u001b[0m\n\u001b[0m\u001b[1;32m      2\u001b[0m \u001b[0mplt\u001b[0m\u001b[0;34m.\u001b[0m\u001b[0mplot\u001b[0m\u001b[0;34m(\u001b[0m\u001b[0;34m[\u001b[0m\u001b[0;36m1\u001b[0m\u001b[0;34m,\u001b[0m\u001b[0;36m2\u001b[0m\u001b[0;34m,\u001b[0m\u001b[0;36m3\u001b[0m\u001b[0;34m,\u001b[0m\u001b[0;36m4\u001b[0m\u001b[0;34m]\u001b[0m\u001b[0;34m,\u001b[0m \u001b[0;34m[\u001b[0m\u001b[0;36m1\u001b[0m\u001b[0;34m,\u001b[0m\u001b[0;36m4\u001b[0m\u001b[0;34m,\u001b[0m\u001b[0;36m9\u001b[0m\u001b[0;34m,\u001b[0m\u001b[0;36m16\u001b[0m\u001b[0;34m]\u001b[0m\u001b[0;34m,\u001b[0m \u001b[0;34m'ro'\u001b[0m\u001b[0;34m)\u001b[0m\u001b[0;34m\u001b[0m\u001b[0m\n\u001b[1;32m      3\u001b[0m \u001b[0mplt\u001b[0m\u001b[0;34m.\u001b[0m\u001b[0maxis\u001b[0m\u001b[0;34m(\u001b[0m\u001b[0;34m[\u001b[0m\u001b[0;36m0\u001b[0m\u001b[0;34m,\u001b[0m \u001b[0;36m6\u001b[0m\u001b[0;34m,\u001b[0m \u001b[0;36m0\u001b[0m\u001b[0;34m,\u001b[0m \u001b[0;36m20\u001b[0m\u001b[0;34m]\u001b[0m\u001b[0;34m)\u001b[0m\u001b[0;34m\u001b[0m\u001b[0m\n\u001b[1;32m      4\u001b[0m \u001b[0mplt\u001b[0m\u001b[0;34m.\u001b[0m\u001b[0mshow\u001b[0m\u001b[0;34m(\u001b[0m\u001b[0;34m)\u001b[0m\u001b[0;34m\u001b[0m\u001b[0m\n",
        "\u001b[0;31mImportError\u001b[0m: No module named matplotlib.pyplot"
       ]
      }
     ],
     "prompt_number": 31
    }
   ],
   "metadata": {}
  }
 ]
}