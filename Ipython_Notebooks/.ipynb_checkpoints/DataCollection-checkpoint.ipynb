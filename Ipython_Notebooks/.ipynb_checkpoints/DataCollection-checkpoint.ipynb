{
 "metadata": {
  "name": ""
 },
 "nbformat": 3,
 "nbformat_minor": 0,
 "worksheets": [
  {
   "cells": [
    {
     "cell_type": "code",
     "collapsed": false,
     "input": [
      "import tethne.readers as rd\n",
      "data = rd.wos.read(\"/Users/ramki/tethne/testsuite/testin/coauthors.txt\")\n",
      "data += rd.wos.read(\"/Users/ramki/tethne/testsuite/testin/wos_authors.txt\")\n",
      "from tethne.data import DataCollection\n",
      "D = DataCollection(data) # Indexed by wosid, by default.\n",
      "print D.papers()\n",
      "D.slice('date', 'time_window', window_size=4)\n",
      "D.slice('accession')\n",
      "print \"slices\",D.get_slices('date')\n",
      "\n",
      "print D.distribution(),D.indices(),D.get_axes()\n",
      "for paper in D.papers():\n",
      "    print paper['ayjid']\n",
      "from tethne.builders import authorCollectionBuilder\n",
      "builder = authorCollectionBuilder(D)\n",
      "C = builder.build('accession', 'coauthors')\n",
      "print C.nodes(),C.edges()\n",
      "        "
     ],
     "language": "python",
     "metadata": {},
     "outputs": [
      {
       "ename": "KeyError",
       "evalue": "'cocitation'",
       "output_type": "pyerr",
       "traceback": [
        "\u001b[0;31m---------------------------------------------------------------------------\u001b[0m\n\u001b[0;31mKeyError\u001b[0m                                  Traceback (most recent call last)",
        "\u001b[0;32m<ipython-input-39-b3392ecbfcaa>\u001b[0m in \u001b[0;36m<module>\u001b[0;34m()\u001b[0m\n\u001b[1;32m     15\u001b[0m \u001b[0mbuilder\u001b[0m \u001b[0;34m=\u001b[0m \u001b[0mauthorCollectionBuilder\u001b[0m\u001b[0;34m(\u001b[0m\u001b[0mD\u001b[0m\u001b[0;34m)\u001b[0m\u001b[0;34m\u001b[0m\u001b[0m\n\u001b[1;32m     16\u001b[0m \u001b[0mC\u001b[0m \u001b[0;34m=\u001b[0m \u001b[0mbuilder\u001b[0m\u001b[0;34m.\u001b[0m\u001b[0mbuild\u001b[0m\u001b[0;34m(\u001b[0m\u001b[0;34m'accession'\u001b[0m\u001b[0;34m,\u001b[0m \u001b[0;34m'coauthors'\u001b[0m\u001b[0;34m)\u001b[0m\u001b[0;34m\u001b[0m\u001b[0m\n\u001b[0;32m---> 17\u001b[0;31m \u001b[0mE\u001b[0m \u001b[0;34m=\u001b[0m \u001b[0mbuilder\u001b[0m\u001b[0;34m.\u001b[0m\u001b[0mbuild\u001b[0m\u001b[0;34m(\u001b[0m\u001b[0;34m'accession'\u001b[0m\u001b[0;34m,\u001b[0m \u001b[0;34m'cocitation'\u001b[0m\u001b[0;34m,\u001b[0m \u001b[0mthreshold\u001b[0m\u001b[0;34m=\u001b[0m\u001b[0;36m1\u001b[0m\u001b[0;34m)\u001b[0m\u001b[0;34m\u001b[0m\u001b[0m\n\u001b[0m\u001b[1;32m     18\u001b[0m \u001b[0;32mprint\u001b[0m \u001b[0mC\u001b[0m\u001b[0;34m.\u001b[0m\u001b[0mnodes\u001b[0m\u001b[0;34m(\u001b[0m\u001b[0;34m)\u001b[0m\u001b[0;34m,\u001b[0m\u001b[0mC\u001b[0m\u001b[0;34m.\u001b[0m\u001b[0medges\u001b[0m\u001b[0;34m(\u001b[0m\u001b[0;34m)\u001b[0m\u001b[0;34m,\u001b[0m\u001b[0mE\u001b[0m\u001b[0;34m\u001b[0m\u001b[0m\n\u001b[1;32m     19\u001b[0m \u001b[0;34m\u001b[0m\u001b[0m\n",
        "\u001b[0;32m/Users/ramki/tethne/tethne/builders.pyc\u001b[0m in \u001b[0;36mbuild\u001b[0;34m(self, graph_axis, graph_type, **kwargs)\u001b[0m\n\u001b[1;32m    101\u001b[0m         \u001b[0;32mfor\u001b[0m \u001b[0mkey\u001b[0m\u001b[0;34m,\u001b[0m \u001b[0mpids\u001b[0m \u001b[0;32min\u001b[0m \u001b[0mself\u001b[0m\u001b[0;34m.\u001b[0m\u001b[0mD\u001b[0m\u001b[0;34m.\u001b[0m\u001b[0maxes\u001b[0m\u001b[0;34m[\u001b[0m\u001b[0mgraph_axis\u001b[0m\u001b[0;34m]\u001b[0m\u001b[0;34m.\u001b[0m\u001b[0miteritems\u001b[0m\u001b[0;34m(\u001b[0m\u001b[0;34m)\u001b[0m\u001b[0;34m:\u001b[0m\u001b[0;34m\u001b[0m\u001b[0m\n\u001b[1;32m    102\u001b[0m             \u001b[0mdata\u001b[0m \u001b[0;34m=\u001b[0m \u001b[0;34m[\u001b[0m \u001b[0mself\u001b[0m\u001b[0;34m.\u001b[0m\u001b[0mD\u001b[0m\u001b[0;34m.\u001b[0m\u001b[0mdata\u001b[0m\u001b[0;34m[\u001b[0m\u001b[0mp\u001b[0m\u001b[0;34m]\u001b[0m \u001b[0;32mfor\u001b[0m \u001b[0mp\u001b[0m \u001b[0;32min\u001b[0m \u001b[0mpids\u001b[0m \u001b[0;34m]\u001b[0m\u001b[0;34m\u001b[0m\u001b[0m\n\u001b[0;32m--> 103\u001b[0;31m             \u001b[0mC\u001b[0m\u001b[0;34m[\u001b[0m\u001b[0mkey\u001b[0m\u001b[0;34m]\u001b[0m \u001b[0;34m=\u001b[0m \u001b[0mnt\u001b[0m\u001b[0;34m.\u001b[0m\u001b[0mauthors\u001b[0m\u001b[0;34m.\u001b[0m\u001b[0m__dict__\u001b[0m\u001b[0;34m[\u001b[0m\u001b[0mgraph_type\u001b[0m\u001b[0;34m]\u001b[0m\u001b[0;34m(\u001b[0m\u001b[0mdata\u001b[0m\u001b[0;34m,\u001b[0m \u001b[0;34m**\u001b[0m\u001b[0mkwargs\u001b[0m\u001b[0;34m)\u001b[0m\u001b[0;34m\u001b[0m\u001b[0m\n\u001b[0m\u001b[1;32m    104\u001b[0m \u001b[0;34m\u001b[0m\u001b[0m\n\u001b[1;32m    105\u001b[0m         \u001b[0;32mreturn\u001b[0m \u001b[0mC\u001b[0m\u001b[0;34m\u001b[0m\u001b[0m\n",
        "\u001b[0;31mKeyError\u001b[0m: 'cocitation'"
       ]
      },
      {
       "output_type": "stream",
       "stream": "stdout",
       "text": [
        "[<tethne.data.Paper object at 0x10460e1d0>, <tethne.data.Paper object at 0x1047c87d0>, <tethne.data.Paper object at 0x10476f550>, <tethne.data.Paper object at 0x10460ebd0>, <tethne.data.Paper object at 0x10474e910>, <tethne.data.Paper object at 0x104665f90>, <tethne.data.Paper object at 0x104584d10>, <tethne.data.Paper object at 0x10474b8d0>, <tethne.data.Paper object at 0x1047c8190>, <tethne.data.Paper object at 0x10476fad0>]\n",
        "slices {1985: ['WOS:A1985AFX8700004'], 1986: [], 1987: [], 1988: [], 1989: [], 1990: ['WOS:A1993LG89300004'], 1991: ['WOS:A1993LG89300004'], 1992: ['WOS:A1993LG89300004'], 1993: ['WOS:A1993LG89300004'], 1994: [], 1995: [], 1996: [], 1997: [], 1998: [], 1999: [], 2000: [], 2001: [], 2002: [], 2003: [], 2004: [], 2005: [], 2006: [], 2007: [], 2008: [], 2009: [], 2010: ['WOS:000323351800001', 'WOS:000324229600003', 'WOS:000323804100014', 'WOS:000324448700005', 'WOS:000323360500013', 'WOS:000323804100025'], 2011: ['WOS:000323351800001', 'WOS:000323472800005', 'WOS:000324229600003', 'WOS:000323804100014', 'WOS:000324448700005', 'WOS:000323360500013', 'WOS:000323804100025', 'WOS:000323049100008']}\n",
        "[[ 0.  1.]\n",
        " [ 0.  0.]\n",
        " [ 0.  0.]\n",
        " [ 0.  0.]\n",
        " [ 0.  0.]\n",
        " [ 0.  1.]\n",
        " [ 0.  1.]\n",
        " [ 0.  1.]\n",
        " [ 0.  1.]\n",
        " [ 0.  0.]\n",
        " [ 0.  0.]\n",
        " [ 0.  0.]\n",
        " [ 0.  0.]\n",
        " [ 0.  0.]\n",
        " [ 0.  0.]\n",
        " [ 0.  0.]\n",
        " [ 0.  0.]\n",
        " [ 0.  0.]\n",
        " [ 0.  0.]\n",
        " [ 0.  0.]\n",
        " [ 0.  0.]\n",
        " [ 0.  0.]\n",
        " [ 0.  0.]\n",
        " [ 0.  0.]\n",
        " [ 0.  0.]\n",
        " [ 6.  0.]\n",
        " [ 8.  0.]] ['WOS:000323351800001', 'WOS:000323472800005', 'WOS:A1985AFX8700004', 'WOS:000324229600003', 'WOS:000323804100014', 'WOS:000324448700005', 'WOS:000323360500013', 'WOS:000323804100025', 'WOS:000323049100008', 'WOS:A1993LG89300004'] ['date', 'accession']\n",
        "VAN DER AALST WMP 2013 DISTRIBUTED AND PARALLEL DATABASES\n",
        "MODIS K 2014 SOIL & SEDIMENT CONTAMINATION\n",
        "ADAMS SM 1985 JOURNAL OF FISH BIOLOGY\n",
        "PAGANO D 2013 EMPIRICAL SOFTWARE ENGINEERING\n",
        "HERMAN G 2013 PATTERN RECOGNITION\n",
        "CHEN TY 2013 ADVANCES IN ENGINEERING SOFTWARE\n",
        "HUANG TCK 2013 EUROPEAN JOURNAL OF OPERATIONAL RESEARCH\n",
        "GALAR M 2013 PATTERN RECOGNITION\n",
        "TUERHONG G 2014 COMMUNICATIONS IN STATISTICS-SIMULATION AND COMPUTATION\n",
        "ADAMS SM 1993 TRANSACTIONS OF THE AMERICAN FISHERIES SOCIETY\n"
       ]
      }
     ],
     "prompt_number": 39
    },
    {
     "cell_type": "code",
     "collapsed": false,
     "input": [
      "import matplotlib.pyplot as plt\n",
      "plt.plot([1,2,3,4], [1,4,9,16], 'ro')\n",
      "plt.axis([0, 6, 0, 20])\n",
      "plt.show()"
     ],
     "language": "python",
     "metadata": {},
     "outputs": [
      {
       "ename": "ImportError",
       "evalue": "No module named matplotlib.pyplot",
       "output_type": "pyerr",
       "traceback": [
        "\u001b[0;31m---------------------------------------------------------------------------\u001b[0m\n\u001b[0;31mImportError\u001b[0m                               Traceback (most recent call last)",
        "\u001b[0;32m<ipython-input-31-4d607c927b3f>\u001b[0m in \u001b[0;36m<module>\u001b[0;34m()\u001b[0m\n\u001b[0;32m----> 1\u001b[0;31m \u001b[0;32mimport\u001b[0m \u001b[0mmatplotlib\u001b[0m\u001b[0;34m.\u001b[0m\u001b[0mpyplot\u001b[0m \u001b[0;32mas\u001b[0m \u001b[0mplt\u001b[0m\u001b[0;34m\u001b[0m\u001b[0m\n\u001b[0m\u001b[1;32m      2\u001b[0m \u001b[0mplt\u001b[0m\u001b[0;34m.\u001b[0m\u001b[0mplot\u001b[0m\u001b[0;34m(\u001b[0m\u001b[0;34m[\u001b[0m\u001b[0;36m1\u001b[0m\u001b[0;34m,\u001b[0m\u001b[0;36m2\u001b[0m\u001b[0;34m,\u001b[0m\u001b[0;36m3\u001b[0m\u001b[0;34m,\u001b[0m\u001b[0;36m4\u001b[0m\u001b[0;34m]\u001b[0m\u001b[0;34m,\u001b[0m \u001b[0;34m[\u001b[0m\u001b[0;36m1\u001b[0m\u001b[0;34m,\u001b[0m\u001b[0;36m4\u001b[0m\u001b[0;34m,\u001b[0m\u001b[0;36m9\u001b[0m\u001b[0;34m,\u001b[0m\u001b[0;36m16\u001b[0m\u001b[0;34m]\u001b[0m\u001b[0;34m,\u001b[0m \u001b[0;34m'ro'\u001b[0m\u001b[0;34m)\u001b[0m\u001b[0;34m\u001b[0m\u001b[0m\n\u001b[1;32m      3\u001b[0m \u001b[0mplt\u001b[0m\u001b[0;34m.\u001b[0m\u001b[0maxis\u001b[0m\u001b[0;34m(\u001b[0m\u001b[0;34m[\u001b[0m\u001b[0;36m0\u001b[0m\u001b[0;34m,\u001b[0m \u001b[0;36m6\u001b[0m\u001b[0;34m,\u001b[0m \u001b[0;36m0\u001b[0m\u001b[0;34m,\u001b[0m \u001b[0;36m20\u001b[0m\u001b[0;34m]\u001b[0m\u001b[0;34m)\u001b[0m\u001b[0;34m\u001b[0m\u001b[0m\n\u001b[1;32m      4\u001b[0m \u001b[0mplt\u001b[0m\u001b[0;34m.\u001b[0m\u001b[0mshow\u001b[0m\u001b[0;34m(\u001b[0m\u001b[0;34m)\u001b[0m\u001b[0;34m\u001b[0m\u001b[0m\n",
        "\u001b[0;31mImportError\u001b[0m: No module named matplotlib.pyplot"
       ]
      }
     ],
     "prompt_number": 31
    }
   ],
   "metadata": {}
  }
 ]
}