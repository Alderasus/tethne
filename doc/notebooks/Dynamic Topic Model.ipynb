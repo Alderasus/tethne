{
 "metadata": {
  "name": "",
  "signature": "sha256:7efbf908d51c35de78abcbfd02cf7de14092fcfd0c628e7520758dd49d2183a1"
 },
 "nbformat": 3,
 "nbformat_minor": 0,
 "worksheets": [
  {
   "cells": [
    {
     "cell_type": "code",
     "collapsed": false,
     "input": [
      "import sys\n",
      "sys.path.append('/Users/erickpeirson/tethne')"
     ],
     "language": "python",
     "metadata": {},
     "outputs": [],
     "prompt_number": 1
    },
    {
     "cell_type": "code",
     "collapsed": false,
     "input": [
      "import matplotlib.pyplot as plt"
     ],
     "language": "python",
     "metadata": {},
     "outputs": [],
     "prompt_number": 2
    },
    {
     "cell_type": "heading",
     "level": 2,
     "metadata": {},
     "source": [
      "1. Create a corpus from a JSTOR DfR dataset\n"
     ]
    },
    {
     "cell_type": "heading",
     "level": 3,
     "metadata": {},
     "source": [
      "1.1. Load bibliographic data"
     ]
    },
    {
     "cell_type": "code",
     "collapsed": false,
     "input": [
      "from tethne.readers import dfr"
     ],
     "language": "python",
     "metadata": {},
     "outputs": [],
     "prompt_number": 3
    },
    {
     "cell_type": "code",
     "collapsed": false,
     "input": [
      "datapath = ['/Users/erickpeirson/Desktop/cleanup/JStor DfR Datasets/2013.5.3.cHrmED8A',\n",
      "            '/Users/erickpeirson/Desktop/cleanup/JStor DfR Datasets/2013.5.3.k2HUvXh9',\n",
      "            '/Users/erickpeirson/Desktop/cleanup/JStor DfR Datasets/2013.5.3.k2HUvXh9']"
     ],
     "language": "python",
     "metadata": {},
     "outputs": [],
     "prompt_number": 4
    },
    {
     "cell_type": "code",
     "collapsed": false,
     "input": [
      "outpath = '/Users/erickpeirson/tethne/doc/notebooks/sandbox/ldaout'\n",
      "temppath = '/Users/erickpeirson/tethne/doc/notebooks/sandbox/ldatemp'"
     ],
     "language": "python",
     "metadata": {},
     "outputs": [],
     "prompt_number": 5
    },
    {
     "cell_type": "code",
     "collapsed": false,
     "input": [
      "papers = [ p for path in datapath for p in dfr.read(path) ]"
     ],
     "language": "python",
     "metadata": {},
     "outputs": [],
     "prompt_number": 6
    },
    {
     "cell_type": "code",
     "collapsed": false,
     "input": [
      "len(papers)"
     ],
     "language": "python",
     "metadata": {},
     "outputs": [
      {
       "metadata": {},
       "output_type": "pyout",
       "prompt_number": 7,
       "text": [
        "880"
       ]
      }
     ],
     "prompt_number": 7
    },
    {
     "cell_type": "heading",
     "level": 3,
     "metadata": {},
     "source": [
      "1.2. Load wordcounts"
     ]
    },
    {
     "cell_type": "code",
     "collapsed": false,
     "input": [
      "wordcounts = {}\n",
      "for path in datapath:\n",
      "    w = dfr.ngrams(path, 'uni')\n",
      "    wordcounts.update(w)"
     ],
     "language": "python",
     "metadata": {},
     "outputs": [],
     "prompt_number": 8
    },
    {
     "cell_type": "heading",
     "level": 3,
     "metadata": {},
     "source": [
      "1.3. Load NLTK stoplist"
     ]
    },
    {
     "cell_type": "code",
     "collapsed": false,
     "input": [
      "from nltk.corpus import stopwords"
     ],
     "language": "python",
     "metadata": {},
     "outputs": [],
     "prompt_number": 10
    },
    {
     "cell_type": "code",
     "collapsed": false,
     "input": [
      "stoplist = stopwords.words()"
     ],
     "language": "python",
     "metadata": {},
     "outputs": [],
     "prompt_number": 11
    },
    {
     "cell_type": "heading",
     "level": 3,
     "metadata": {},
     "source": [
      "1.4. Create a DataCollection"
     ]
    },
    {
     "cell_type": "code",
     "collapsed": false,
     "input": [
      "from tethne import DataCollection"
     ],
     "language": "python",
     "metadata": {},
     "outputs": [],
     "prompt_number": 12
    },
    {
     "cell_type": "code",
     "collapsed": false,
     "input": [
      "D = DataCollection(papers, features={'wordcounts': wordcounts}, index_by='doi', exclude=stoplist)"
     ],
     "language": "python",
     "metadata": {},
     "outputs": [],
     "prompt_number": 13
    },
    {
     "cell_type": "heading",
     "level": 3,
     "metadata": {},
     "source": [
      "1.5. Filter words in wordcount featureset"
     ]
    },
    {
     "cell_type": "code",
     "collapsed": false,
     "input": [
      "def filt(s, C, DC):\n",
      "    if C > 3 and DC > 1 and len(s) > 3:\n",
      "        return True\n",
      "    return False"
     ],
     "language": "python",
     "metadata": {},
     "outputs": [],
     "prompt_number": 14
    },
    {
     "cell_type": "code",
     "collapsed": false,
     "input": [
      "D.filter_features('wordcounts', 'wordcounts_filtered', filt)"
     ],
     "language": "python",
     "metadata": {},
     "outputs": [],
     "prompt_number": 15
    },
    {
     "cell_type": "code",
     "collapsed": false,
     "input": [
      "len(D.features['wordcounts']['index']), len(D.features['wordcounts_filtered']['index'])"
     ],
     "language": "python",
     "metadata": {},
     "outputs": [
      {
       "metadata": {},
       "output_type": "pyout",
       "prompt_number": 16,
       "text": [
        "(122836, 27750)"
       ]
      }
     ],
     "prompt_number": 16
    },
    {
     "cell_type": "heading",
     "level": 3,
     "metadata": {},
     "source": [
      "1.6. Create a time-period index"
     ]
    },
    {
     "cell_type": "code",
     "collapsed": false,
     "input": [
      "D.slice('date', method='time_period', window_size=5)"
     ],
     "language": "python",
     "metadata": {},
     "outputs": [],
     "prompt_number": 17
    },
    {
     "cell_type": "code",
     "collapsed": false,
     "input": [
      "D.plot_distribution('date')"
     ],
     "language": "python",
     "metadata": {},
     "outputs": [
      {
       "metadata": {},
       "output_type": "display_data",
       "png": "[encoded data removed]",
       "text": [
        "<matplotlib.figure.Figure at 0x10bfcbfd0>"
       ]
      }
     ],
     "prompt_number": 18
    },
    {
     "cell_type": "code",
     "collapsed": false,
     "input": [
      "from tethne.model.managers import DTMModelManager"
     ],
     "language": "python",
     "metadata": {},
     "outputs": [],
     "prompt_number": 19
    },
    {
     "cell_type": "code",
     "collapsed": false,
     "input": [
      "dtm_path = '/Users/erickpeirson/tethne/tethne/model/bin/main'"
     ],
     "language": "python",
     "metadata": {},
     "outputs": [],
     "prompt_number": 20
    },
    {
     "cell_type": "code",
     "collapsed": false,
     "input": [
      "dtm_outpath = '/Users/erickpeirson/tethne/doc/notebooks/sandbox/dtmout'\n",
      "dtm_temppath = '/Users/erickpeirson/tethne/doc/notebooks/sandbox/dtmtemp'"
     ],
     "language": "python",
     "metadata": {},
     "outputs": [],
     "prompt_number": 21
    },
    {
     "cell_type": "code",
     "collapsed": false,
     "input": [
      "DM = DTMModelManager(D, feature='wordcounts_filtered', outpath=dtm_outpath, \n",
      "                        temppath=dtm_temppath, dtm_path=dtm_path)"
     ],
     "language": "python",
     "metadata": {},
     "outputs": [],
     "prompt_number": 22
    },
    {
     "cell_type": "code",
     "collapsed": false,
     "input": [
      "DM.prep()"
     ],
     "language": "python",
     "metadata": {},
     "outputs": [],
     "prompt_number": 23
    },
    {
     "cell_type": "code",
     "collapsed": false,
     "input": [
      "DM.build()"
     ],
     "language": "python",
     "metadata": {},
     "outputs": [
      {
       "metadata": {},
       "output_type": "pyout",
       "prompt_number": 24,
       "text": [
        "<tethne.model.corpus.dtmmodel.DTMModel at 0x10db6d1d0>"
       ]
      },
      {
       "metadata": {},
       "output_type": "display_data",
       "png": "[encoded data removed]",
       "text": [
        "<matplotlib.figure.Figure at 0x10d5cff90>"
       ]
      }
     ],
     "prompt_number": 24
    },
    {
     "cell_type": "code",
     "collapsed": false,
     "input": [
      "import cPickle as pickle"
     ],
     "language": "python",
     "metadata": {},
     "outputs": [],
     "prompt_number": 25
    },
    {
     "cell_type": "code",
     "collapsed": false,
     "input": [
      "with open('/Users/erickpeirson/tethne/doc/notebooks/sandbox/dtmout/DTMModelManager.pickle', 'wb') as f:\n",
      "    pickle.dump(DM, f)"
     ],
     "language": "python",
     "metadata": {},
     "outputs": [],
     "prompt_number": 26
    },
    {
     "cell_type": "code",
     "collapsed": false,
     "input": [
      "DM.list_topic_diachronic(1)"
     ],
     "language": "python",
     "metadata": {},
     "outputs": [
      {
       "metadata": {},
       "output_type": "pyout",
       "prompt_number": 28,
       "text": [
        "{0: ['pollen',\n",
        "  'species',\n",
        "  'flowers',\n",
        "  'embryo',\n",
        "  'grains',\n",
        "  'plants',\n",
        "  'number',\n",
        "  'perenne',\n",
        "  'flower',\n",
        "  'pollination'],\n",
        " 1: ['pollen',\n",
        "  'species',\n",
        "  'flowers',\n",
        "  'embryo',\n",
        "  'grains',\n",
        "  'plants',\n",
        "  'number',\n",
        "  'perenne',\n",
        "  'flower',\n",
        "  'pollination'],\n",
        " 2: ['pollen',\n",
        "  'species',\n",
        "  'flowers',\n",
        "  'embryo',\n",
        "  'grains',\n",
        "  'plants',\n",
        "  'number',\n",
        "  'perenne',\n",
        "  'flower',\n",
        "  'subsp'],\n",
        " 3: ['pollen',\n",
        "  'species',\n",
        "  'flowers',\n",
        "  'embryo',\n",
        "  'grains',\n",
        "  'plants',\n",
        "  'number',\n",
        "  'perenne',\n",
        "  'flower',\n",
        "  'subsp'],\n",
        " 4: ['pollen',\n",
        "  'species',\n",
        "  'flowers',\n",
        "  'grains',\n",
        "  'plants',\n",
        "  'number',\n",
        "  'embryo',\n",
        "  'perenne',\n",
        "  'subsp',\n",
        "  'flower'],\n",
        " 5: ['pollen',\n",
        "  'species',\n",
        "  'flowers',\n",
        "  'plants',\n",
        "  'grains',\n",
        "  'number',\n",
        "  'perenne',\n",
        "  'subsp',\n",
        "  'embryo',\n",
        "  'flower'],\n",
        " 6: ['pollen',\n",
        "  'species',\n",
        "  'flowers',\n",
        "  'perenne',\n",
        "  'plants',\n",
        "  'number',\n",
        "  'subsp',\n",
        "  'grains',\n",
        "  'female',\n",
        "  'flower'],\n",
        " 7: ['pollen',\n",
        "  'species',\n",
        "  'perenne',\n",
        "  'flowers',\n",
        "  'subsp',\n",
        "  'plants',\n",
        "  'number',\n",
        "  'female',\n",
        "  'chromosome',\n",
        "  'grains'],\n",
        " 8: ['pollen',\n",
        "  'species',\n",
        "  'flowers',\n",
        "  'plants',\n",
        "  'female',\n",
        "  'number',\n",
        "  'chromosome',\n",
        "  'male',\n",
        "  'subsp',\n",
        "  'perenne'],\n",
        " 9: ['species',\n",
        "  'pollen',\n",
        "  'female',\n",
        "  'plants',\n",
        "  'number',\n",
        "  'flowers',\n",
        "  'male',\n",
        "  'chromosome',\n",
        "  'pollination',\n",
        "  'table'],\n",
        " 10: ['species',\n",
        "  'pollen',\n",
        "  'chromosome',\n",
        "  'number',\n",
        "  'plants',\n",
        "  'female',\n",
        "  'flowers',\n",
        "  'male',\n",
        "  'table',\n",
        "  'pollination'],\n",
        " 11: ['species',\n",
        "  'pollen',\n",
        "  'chromosome',\n",
        "  'number',\n",
        "  'plants',\n",
        "  'female',\n",
        "  'table',\n",
        "  'flowers',\n",
        "  'numbers',\n",
        "  'male']}"
       ]
      }
     ],
     "prompt_number": 28
    },
    {
     "cell_type": "code",
     "collapsed": false,
     "input": [
      "import networkx as nx"
     ],
     "language": "python",
     "metadata": {},
     "outputs": [],
     "prompt_number": 30
    },
    {
     "cell_type": "code",
     "collapsed": false,
     "input": [
      "g = nx.Graph(name='my graph')"
     ],
     "language": "python",
     "metadata": {},
     "outputs": [],
     "prompt_number": 43
    },
    {
     "cell_type": "code",
     "collapsed": false,
     "input": [
      "g.add_edge(1,3, weight=0.5)"
     ],
     "language": "python",
     "metadata": {},
     "outputs": [],
     "prompt_number": 47
    },
    {
     "cell_type": "code",
     "collapsed": false,
     "input": [
      "g.add_node(1, size=0.3)"
     ],
     "language": "python",
     "metadata": {},
     "outputs": [],
     "prompt_number": 49
    },
    {
     "cell_type": "code",
     "collapsed": false,
     "input": [
      "g.__dict__"
     ],
     "language": "python",
     "metadata": {},
     "outputs": [
      {
       "metadata": {},
       "output_type": "pyout",
       "prompt_number": 50,
       "text": [
        "{'adj': {0: {3: {'weight': 0.5}},\n",
        "  1: {3: {'weight': 0.5}},\n",
        "  3: {0: {'weight': 0.5}, 1: {'weight': 0.5}}},\n",
        " 'edge': {0: {3: {'weight': 0.5}},\n",
        "  1: {3: {'weight': 0.5}},\n",
        "  3: {0: {'weight': 0.5}, 1: {'weight': 0.5}}},\n",
        " 'graph': {'name': 'my graph'},\n",
        " 'node': {0: {}, 1: {'size': 0.3}, 3: {}}}"
       ]
      }
     ],
     "prompt_number": 50
    },
    {
     "cell_type": "code",
     "collapsed": false,
     "input": [
      "from scipy.sparse import coo_matrix"
     ],
     "language": "python",
     "metadata": {},
     "outputs": [],
     "prompt_number": 51
    },
    {
     "cell_type": "code",
     "collapsed": false,
     "input": [
      "I = [0,1,2,3,3]\n",
      "J = [1,1,3,0,1]\n",
      "K = [1, 2, 3, 4, 5]"
     ],
     "language": "python",
     "metadata": {},
     "outputs": [],
     "prompt_number": 191
    },
    {
     "cell_type": "code",
     "collapsed": false,
     "input": [
      "A = coo_matrix((K, (I, J)))"
     ],
     "language": "python",
     "metadata": {},
     "outputs": [],
     "prompt_number": 192
    },
    {
     "cell_type": "code",
     "collapsed": false,
     "input": [
      "zip(A.nonzero()[0], A.nonzero()[1])"
     ],
     "language": "python",
     "metadata": {},
     "outputs": [
      {
       "metadata": {},
       "output_type": "pyout",
       "prompt_number": 211,
       "text": [
        "[(0, 1), (1, 1), (2, 3), (3, 0), (3, 1)]"
       ]
      }
     ],
     "prompt_number": 211
    },
    {
     "cell_type": "code",
     "collapsed": false,
     "input": [
      "B = A.tocsr()"
     ],
     "language": "python",
     "metadata": {},
     "outputs": [],
     "prompt_number": 194
    },
    {
     "cell_type": "code",
     "collapsed": false,
     "input": [
      "B[0,1]"
     ],
     "language": "python",
     "metadata": {},
     "outputs": [
      {
       "metadata": {},
       "output_type": "pyout",
       "prompt_number": 195,
       "text": [
        "1"
       ]
      }
     ],
     "prompt_number": 195
    },
    {
     "cell_type": "code",
     "collapsed": false,
     "input": [
      "C = A.tolil()"
     ],
     "language": "python",
     "metadata": {},
     "outputs": [],
     "prompt_number": 196
    },
    {
     "cell_type": "code",
     "collapsed": false,
     "input": [
      "A.nonzero()[0]"
     ],
     "language": "python",
     "metadata": {},
     "outputs": [
      {
       "metadata": {},
       "output_type": "pyout",
       "prompt_number": 197,
       "text": [
        "array([0, 1, 2, 3, 3], dtype=int32)"
       ]
      }
     ],
     "prompt_number": 197
    },
    {
     "cell_type": "code",
     "collapsed": false,
     "input": [
      "C.nonzero()"
     ],
     "language": "python",
     "metadata": {},
     "outputs": [
      {
       "metadata": {},
       "output_type": "pyout",
       "prompt_number": 198,
       "text": [
        "(array([0, 1, 2, 3, 3], dtype=int32), array([1, 1, 3, 0, 1], dtype=int32))"
       ]
      }
     ],
     "prompt_number": 198
    },
    {
     "cell_type": "code",
     "collapsed": false,
     "input": [
      "list(set(B[0,:].nonzero()[1]) | set(B[:,0].nonzero()[0]))"
     ],
     "language": "python",
     "metadata": {},
     "outputs": [
      {
       "metadata": {},
       "output_type": "pyout",
       "prompt_number": 203,
       "text": [
        "[1, 3]"
       ]
      }
     ],
     "prompt_number": 203
    },
    {
     "cell_type": "code",
     "collapsed": false,
     "input": [
      "A.nonzero()"
     ],
     "language": "python",
     "metadata": {},
     "outputs": [
      {
       "metadata": {},
       "output_type": "pyout",
       "prompt_number": 200,
       "text": [
        "(array([0, 1, 2, 3, 3], dtype=int32), array([1, 1, 3, 0, 1], dtype=int32))"
       ]
      }
     ],
     "prompt_number": 200
    },
    {
     "cell_type": "code",
     "collapsed": false,
     "input": [
      "class SA(object):\n",
      "    def __getitem__(self, indices):\n",
      "        i, j = indices\n",
      "        print i, j"
     ],
     "language": "python",
     "metadata": {},
     "outputs": [],
     "prompt_number": 201
    },
    {
     "cell_type": "code",
     "collapsed": false,
     "input": [
      "SA()[0,1]"
     ],
     "language": "python",
     "metadata": {},
     "outputs": [
      {
       "output_type": "stream",
       "stream": "stdout",
       "text": [
        "0 1\n"
       ]
      }
     ],
     "prompt_number": 202
    },
    {
     "cell_type": "code",
     "collapsed": false,
     "input": [
      "g.edges(data=True)"
     ],
     "language": "python",
     "metadata": {},
     "outputs": [
      {
       "metadata": {},
       "output_type": "pyout",
       "prompt_number": 214,
       "text": [
        "[(0, 3, {'weight': 0.5}), (1, 3, {'weight': 0.5})]"
       ]
      }
     ],
     "prompt_number": 214
    },
    {
     "cell_type": "code",
     "collapsed": false,
     "input": [
      "A.data"
     ],
     "language": "python",
     "metadata": {},
     "outputs": [
      {
       "metadata": {},
       "output_type": "pyout",
       "prompt_number": 216,
       "text": [
        "array([1, 2, 3, 4, 5])"
       ]
      }
     ],
     "prompt_number": 216
    },
    {
     "cell_type": "code",
     "collapsed": false,
     "input": [
      "g.edge"
     ],
     "language": "python",
     "metadata": {},
     "outputs": [
      {
       "metadata": {},
       "output_type": "pyout",
       "prompt_number": 218,
       "text": [
        "{0: {3: {'weight': 0.5}},\n",
        " 1: {3: {'weight': 0.5}},\n",
        " 3: {0: {'weight': 0.5}, 1: {'weight': 0.5}}}"
       ]
      }
     ],
     "prompt_number": 218
    },
    {
     "cell_type": "code",
     "collapsed": false,
     "input": [
      "from tethne.persistence.hdf5.graphcollection import HDF5Graph"
     ],
     "language": "python",
     "metadata": {},
     "outputs": [
      {
       "ename": "ImportError",
       "evalue": "No module named graphcollection",
       "output_type": "pyerr",
       "traceback": [
        "\u001b[0;31m---------------------------------------------------------------------------\u001b[0m\n\u001b[0;31mImportError\u001b[0m                               Traceback (most recent call last)",
        "\u001b[0;32m<ipython-input-219-b621458adbac>\u001b[0m in \u001b[0;36m<module>\u001b[0;34m()\u001b[0m\n\u001b[0;32m----> 1\u001b[0;31m \u001b[0;32mfrom\u001b[0m \u001b[0mtethne\u001b[0m\u001b[0;34m.\u001b[0m\u001b[0mpersistence\u001b[0m\u001b[0;34m.\u001b[0m\u001b[0mhdf5\u001b[0m\u001b[0;34m.\u001b[0m\u001b[0mgraphcollection\u001b[0m \u001b[0;32mimport\u001b[0m \u001b[0mHDF5Graph\u001b[0m\u001b[0;34m\u001b[0m\u001b[0m\n\u001b[0m",
        "\u001b[0;31mImportError\u001b[0m: No module named graphcollection"
       ]
      }
     ],
     "prompt_number": 219
    },
    {
     "cell_type": "code",
     "collapsed": false,
     "input": [],
     "language": "python",
     "metadata": {},
     "outputs": []
    }
   ],
   "metadata": {}
  }
 ]
}